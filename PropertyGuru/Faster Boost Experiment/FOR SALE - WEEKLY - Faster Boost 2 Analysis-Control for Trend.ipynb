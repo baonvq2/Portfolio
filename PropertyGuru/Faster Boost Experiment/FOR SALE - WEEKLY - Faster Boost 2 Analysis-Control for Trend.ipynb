{
 "cells": [
  {
   "cell_type": "code",
   "execution_count": 1,
   "id": "6c4169b9",
   "metadata": {},
   "outputs": [],
   "source": [
    "import pandas as pd\n",
    "import numpy as np\n",
    "import matplotlib.pyplot as plt\n",
    "from functools import reduce\n",
    "import datetime as dt\n",
    "pd.set_option('mode.chained_assignment', None)\n",
    "import seaborn as sns\n",
    "import scipy.stats.mstats as mstats\n",
    "import statsmodels.api as sm\n",
    "import pandasql as ps"
   ]
  },
  {
   "cell_type": "code",
   "execution_count": 2,
   "id": "ff25f201",
   "metadata": {},
   "outputs": [],
   "source": [
    "from scipy.stats import mannwhitneyu as u_test"
   ]
  },
  {
   "cell_type": "code",
   "execution_count": 3,
   "id": "725a5590",
   "metadata": {},
   "outputs": [],
   "source": [
    "def multi_u(df,measure,split):\n",
    "    group = df[split].unique()\n",
    "#     print(group)\n",
    "    for i in range(group.shape[0]):\n",
    "        m1 = df[measure][df[split]==group[i]]\n",
    "        if i+1 < group.shape[0]:\n",
    "            m2 = df[measure][df[split]==group[i+1]]\n",
    "            gr2 = group[i+1]\n",
    "        else:\n",
    "            m2 = df[measure][df[split]==group[0]]\n",
    "            gr2 = group[0]\n",
    "        u = u_test(m1,m2)\n",
    "        print(group[i],'vs',gr2,\":\",u)"
   ]
  },
  {
   "cell_type": "code",
   "execution_count": 4,
   "id": "b6b11151",
   "metadata": {},
   "outputs": [],
   "source": [
    "def stat(df,group,measure):  \n",
    "    nor = df.groupby(group)[measure].median()\n",
    "#     mean = df.groupby(group)[measure].mean()\n",
    "    nor_lower = df.groupby(group)[measure].quantile(0.25)\n",
    "    nor_upper = df.groupby(group)[measure].quantile(0.75)\n",
    "    nor_90 = df.groupby(group)[measure].quantile(0.9)\n",
    "    nor_10 = df.groupby(group)[measure].quantile(0.1)\n",
    "    df1 = pd.concat([nor,nor_upper,nor_lower,nor_90,nor_10], axis = 1).fillna(0)\n",
    "    df1.columns = ['median','q25','q75','q90','q10']\n",
    "    return df1"
   ]
  },
  {
   "cell_type": "code",
   "execution_count": 5,
   "id": "fd33fda1",
   "metadata": {},
   "outputs": [],
   "source": [
    "def cent_stat(df, group, measure):\n",
    "    ct = df.groupby(group)[measure].count()\n",
    "    mean = df.groupby(group)[measure].mean()\n",
    "    median = df.groupby(group)[measure].median()\n",
    "    df = pd.concat([ct,mean,median],axis = 1)\n",
    "    df.columns = ['count','mean','median']\n",
    "    return df\n",
    "\n",
    "def dens(measure, bin_range):\n",
    "    bins = int(np.ceil(measure.max()/bin_range))\n",
    "    total = len(measure)\n",
    "    prob = []\n",
    "    for i in range(bins):\n",
    "        k = len(measure[(measure >=bin_range*i)&(measure<bin_range*(i+1))])/total\n",
    "        prob.append(k)\n",
    "    return prob"
   ]
  },
  {
   "cell_type": "code",
   "execution_count": 6,
   "id": "37c10295",
   "metadata": {},
   "outputs": [],
   "source": [
    "lst1 = pd.read_csv(r'./DATA/listing_consumption_oct_till_dec.csv')"
   ]
  },
  {
   "cell_type": "code",
   "execution_count": 7,
   "id": "e0dd3eba",
   "metadata": {},
   "outputs": [
    {
     "data": {
      "text/html": [
       "<div>\n",
       "<style scoped>\n",
       "    .dataframe tbody tr th:only-of-type {\n",
       "        vertical-align: middle;\n",
       "    }\n",
       "\n",
       "    .dataframe tbody tr th {\n",
       "        vertical-align: top;\n",
       "    }\n",
       "\n",
       "    .dataframe thead th {\n",
       "        text-align: right;\n",
       "    }\n",
       "</style>\n",
       "<table border=\"1\" class=\"dataframe\">\n",
       "  <thead>\n",
       "    <tr style=\"text-align: right;\">\n",
       "      <th></th>\n",
       "      <th>begin_date</th>\n",
       "      <th>duration_actual</th>\n",
       "      <th>end_date</th>\n",
       "      <th>product_id</th>\n",
       "      <th>consumption</th>\n",
       "      <th>accrual</th>\n",
       "      <th>vip_type</th>\n",
       "      <th>enlarged</th>\n",
       "      <th>boosted_or_not</th>\n",
       "      <th>count_boosted_listings</th>\n",
       "      <th>first_boost_date_rank</th>\n",
       "      <th>boost_accrual</th>\n",
       "      <th>boost_consumption</th>\n",
       "      <th>user_id</th>\n",
       "      <th>user_group</th>\n",
       "      <th>parent_category</th>\n",
       "      <th>category_name</th>\n",
       "      <th>province</th>\n",
       "      <th>user_usage</th>\n",
       "      <th>user_time</th>\n",
       "    </tr>\n",
       "  </thead>\n",
       "  <tbody>\n",
       "    <tr>\n",
       "      <th>0</th>\n",
       "      <td>2021-12-26</td>\n",
       "      <td>7</td>\n",
       "      <td>2022-01-02</td>\n",
       "      <td>31995369</td>\n",
       "      <td>19.089</td>\n",
       "      <td>19.089</td>\n",
       "      <td>Normal Listing</td>\n",
       "      <td>No</td>\n",
       "      <td>Not Boosted</td>\n",
       "      <td>NaN</td>\n",
       "      <td>NaN</td>\n",
       "      <td>NaN</td>\n",
       "      <td>NaN</td>\n",
       "      <td>631411</td>\n",
       "      <td>Individual</td>\n",
       "      <td>Nhà đất bán</td>\n",
       "      <td>Bán nhà mặt phố</td>\n",
       "      <td>Cần Thơ</td>\n",
       "      <td>Power</td>\n",
       "      <td>Old User</td>\n",
       "    </tr>\n",
       "    <tr>\n",
       "      <th>1</th>\n",
       "      <td>2021-12-26</td>\n",
       "      <td>30</td>\n",
       "      <td>2022-01-25</td>\n",
       "      <td>31993308</td>\n",
       "      <td>81.810</td>\n",
       "      <td>0.000</td>\n",
       "      <td>Normal Listing</td>\n",
       "      <td>No</td>\n",
       "      <td>Not Boosted</td>\n",
       "      <td>NaN</td>\n",
       "      <td>NaN</td>\n",
       "      <td>NaN</td>\n",
       "      <td>NaN</td>\n",
       "      <td>11013</td>\n",
       "      <td>Business</td>\n",
       "      <td>Nhà đất bán</td>\n",
       "      <td>Bán đất</td>\n",
       "      <td>Bà Rịa Vũng Tàu</td>\n",
       "      <td>Power</td>\n",
       "      <td>Old User</td>\n",
       "    </tr>\n",
       "  </tbody>\n",
       "</table>\n",
       "</div>"
      ],
      "text/plain": [
       "   begin_date  duration_actual    end_date  product_id  consumption  accrual  \\\n",
       "0  2021-12-26                7  2022-01-02    31995369       19.089   19.089   \n",
       "1  2021-12-26               30  2022-01-25    31993308       81.810    0.000   \n",
       "\n",
       "         vip_type enlarged boosted_or_not  count_boosted_listings  \\\n",
       "0  Normal Listing       No    Not Boosted                     NaN   \n",
       "1  Normal Listing       No    Not Boosted                     NaN   \n",
       "\n",
       "   first_boost_date_rank  boost_accrual  boost_consumption  user_id  \\\n",
       "0                    NaN            NaN                NaN   631411   \n",
       "1                    NaN            NaN                NaN    11013   \n",
       "\n",
       "   user_group parent_category    category_name         province user_usage  \\\n",
       "0  Individual     Nhà đất bán  Bán nhà mặt phố          Cần Thơ      Power   \n",
       "1    Business     Nhà đất bán          Bán đất  Bà Rịa Vũng Tàu      Power   \n",
       "\n",
       "  user_time  \n",
       "0  Old User  \n",
       "1  Old User  "
      ]
     },
     "execution_count": 7,
     "metadata": {},
     "output_type": "execute_result"
    }
   ],
   "source": [
    "lst1.head(2)"
   ]
  },
  {
   "cell_type": "code",
   "execution_count": 8,
   "id": "cbabf3da",
   "metadata": {},
   "outputs": [],
   "source": [
    "lst1['begin_date'] = pd.to_datetime(lst1['begin_date'], yearfirst = True).dt.date"
   ]
  },
  {
   "cell_type": "code",
   "execution_count": 9,
   "id": "9c5a75e2",
   "metadata": {},
   "outputs": [],
   "source": [
    "lst2 = pd.read_csv(r'./DATA/listing_consumption_dec_till_jan.csv')"
   ]
  },
  {
   "cell_type": "code",
   "execution_count": 10,
   "id": "d70aaa5f",
   "metadata": {},
   "outputs": [],
   "source": [
    "lst0 = pd.concat([lst1[lst1['begin_date'] < dt.date(2021,12,1)], lst2])"
   ]
  },
  {
   "cell_type": "code",
   "execution_count": 11,
   "id": "54fa1471",
   "metadata": {},
   "outputs": [],
   "source": [
    "lst = lst0[lst0['parent_category']=='Nhà đất bán']"
   ]
  },
  {
   "cell_type": "code",
   "execution_count": 12,
   "id": "e8d5ab3e",
   "metadata": {},
   "outputs": [],
   "source": [
    "# lst=lst0.copy()"
   ]
  },
  {
   "cell_type": "code",
   "execution_count": 13,
   "id": "7af5b561",
   "metadata": {},
   "outputs": [],
   "source": [
    "lst['begin_date'] = pd.to_datetime(lst['begin_date'], yearfirst = True)\n",
    "lst['week']= lst['begin_date'].dt.strftime('%Y-%W').apply(lambda x: dt.datetime.strptime(x + '-1', \"%Y-%W-%w\"), 1)"
   ]
  },
  {
   "cell_type": "code",
   "execution_count": 14,
   "id": "e9b51e66",
   "metadata": {},
   "outputs": [
    {
     "data": {
      "text/html": [
       "<div>\n",
       "<style scoped>\n",
       "    .dataframe tbody tr th:only-of-type {\n",
       "        vertical-align: middle;\n",
       "    }\n",
       "\n",
       "    .dataframe tbody tr th {\n",
       "        vertical-align: top;\n",
       "    }\n",
       "\n",
       "    .dataframe thead th {\n",
       "        text-align: right;\n",
       "    }\n",
       "</style>\n",
       "<table border=\"1\" class=\"dataframe\">\n",
       "  <thead>\n",
       "    <tr style=\"text-align: right;\">\n",
       "      <th></th>\n",
       "      <th>begin_date</th>\n",
       "      <th>duration_actual</th>\n",
       "      <th>end_date</th>\n",
       "      <th>product_id</th>\n",
       "      <th>consumption</th>\n",
       "      <th>accrual</th>\n",
       "      <th>vip_type</th>\n",
       "      <th>enlarged</th>\n",
       "      <th>boosted_or_not</th>\n",
       "      <th>count_boosted_listings</th>\n",
       "      <th>...</th>\n",
       "      <th>boost_accrual</th>\n",
       "      <th>boost_consumption</th>\n",
       "      <th>user_id</th>\n",
       "      <th>user_group</th>\n",
       "      <th>parent_category</th>\n",
       "      <th>category_name</th>\n",
       "      <th>province</th>\n",
       "      <th>user_usage</th>\n",
       "      <th>user_time</th>\n",
       "      <th>week</th>\n",
       "    </tr>\n",
       "  </thead>\n",
       "  <tbody>\n",
       "    <tr>\n",
       "      <th>848981</th>\n",
       "      <td>2021-11-30</td>\n",
       "      <td>7</td>\n",
       "      <td>2021-12-07</td>\n",
       "      <td>31645020</td>\n",
       "      <td>38.178</td>\n",
       "      <td>38.178</td>\n",
       "      <td>Normal Listing</td>\n",
       "      <td>Yes</td>\n",
       "      <td>Boosted</td>\n",
       "      <td>1.0</td>\n",
       "      <td>...</td>\n",
       "      <td>5.454</td>\n",
       "      <td>5.454</td>\n",
       "      <td>1624447</td>\n",
       "      <td>Individual</td>\n",
       "      <td>Nhà đất bán</td>\n",
       "      <td>Bán căn hộ chung cư</td>\n",
       "      <td>Hồ Chí Minh</td>\n",
       "      <td>Power</td>\n",
       "      <td>Old User</td>\n",
       "      <td>2021-11-29</td>\n",
       "    </tr>\n",
       "    <tr>\n",
       "      <th>848982</th>\n",
       "      <td>2021-11-30</td>\n",
       "      <td>7</td>\n",
       "      <td>2021-12-07</td>\n",
       "      <td>31397648</td>\n",
       "      <td>19.089</td>\n",
       "      <td>19.089</td>\n",
       "      <td>Normal Listing</td>\n",
       "      <td>No</td>\n",
       "      <td>Not Boosted</td>\n",
       "      <td>NaN</td>\n",
       "      <td>...</td>\n",
       "      <td>NaN</td>\n",
       "      <td>NaN</td>\n",
       "      <td>1693934</td>\n",
       "      <td>Business</td>\n",
       "      <td>Nhà đất bán</td>\n",
       "      <td>Bán nhà mặt phố</td>\n",
       "      <td>Hà Nội</td>\n",
       "      <td>Frequent</td>\n",
       "      <td>Old User</td>\n",
       "      <td>2021-11-29</td>\n",
       "    </tr>\n",
       "    <tr>\n",
       "      <th>848984</th>\n",
       "      <td>2021-11-30</td>\n",
       "      <td>7</td>\n",
       "      <td>2021-12-07</td>\n",
       "      <td>31420876</td>\n",
       "      <td>19.089</td>\n",
       "      <td>0.000</td>\n",
       "      <td>Normal Listing</td>\n",
       "      <td>No</td>\n",
       "      <td>Not Boosted</td>\n",
       "      <td>NaN</td>\n",
       "      <td>...</td>\n",
       "      <td>NaN</td>\n",
       "      <td>NaN</td>\n",
       "      <td>1344036</td>\n",
       "      <td>Business</td>\n",
       "      <td>Nhà đất bán</td>\n",
       "      <td>Bán căn hộ chung cư</td>\n",
       "      <td>Hồ Chí Minh</td>\n",
       "      <td>Power</td>\n",
       "      <td>Old User</td>\n",
       "      <td>2021-11-29</td>\n",
       "    </tr>\n",
       "    <tr>\n",
       "      <th>848985</th>\n",
       "      <td>2021-11-30</td>\n",
       "      <td>7</td>\n",
       "      <td>2021-12-07</td>\n",
       "      <td>31641646</td>\n",
       "      <td>38.178</td>\n",
       "      <td>0.000</td>\n",
       "      <td>Normal Listing</td>\n",
       "      <td>Yes</td>\n",
       "      <td>Not Boosted</td>\n",
       "      <td>NaN</td>\n",
       "      <td>...</td>\n",
       "      <td>NaN</td>\n",
       "      <td>NaN</td>\n",
       "      <td>1663249</td>\n",
       "      <td>Business</td>\n",
       "      <td>Nhà đất bán</td>\n",
       "      <td>Bán nhà biệt thự, liền kề</td>\n",
       "      <td>Hà Nội</td>\n",
       "      <td>Power</td>\n",
       "      <td>Old User</td>\n",
       "      <td>2021-11-29</td>\n",
       "    </tr>\n",
       "    <tr>\n",
       "      <th>848986</th>\n",
       "      <td>2021-11-30</td>\n",
       "      <td>7</td>\n",
       "      <td>2021-12-07</td>\n",
       "      <td>31640964</td>\n",
       "      <td>350.000</td>\n",
       "      <td>0.000</td>\n",
       "      <td>VIP 3</td>\n",
       "      <td>No</td>\n",
       "      <td>Not Boosted</td>\n",
       "      <td>NaN</td>\n",
       "      <td>...</td>\n",
       "      <td>NaN</td>\n",
       "      <td>NaN</td>\n",
       "      <td>693825</td>\n",
       "      <td>Individual</td>\n",
       "      <td>Nhà đất bán</td>\n",
       "      <td>Bán căn hộ chung cư</td>\n",
       "      <td>Hà Nội</td>\n",
       "      <td>Power</td>\n",
       "      <td>Old User</td>\n",
       "      <td>2021-11-29</td>\n",
       "    </tr>\n",
       "  </tbody>\n",
       "</table>\n",
       "<p>5 rows × 21 columns</p>\n",
       "</div>"
      ],
      "text/plain": [
       "       begin_date  duration_actual    end_date  product_id  consumption  \\\n",
       "848981 2021-11-30                7  2021-12-07    31645020       38.178   \n",
       "848982 2021-11-30                7  2021-12-07    31397648       19.089   \n",
       "848984 2021-11-30                7  2021-12-07    31420876       19.089   \n",
       "848985 2021-11-30                7  2021-12-07    31641646       38.178   \n",
       "848986 2021-11-30                7  2021-12-07    31640964      350.000   \n",
       "\n",
       "        accrual        vip_type enlarged boosted_or_not  \\\n",
       "848981   38.178  Normal Listing      Yes        Boosted   \n",
       "848982   19.089  Normal Listing       No    Not Boosted   \n",
       "848984    0.000  Normal Listing       No    Not Boosted   \n",
       "848985    0.000  Normal Listing      Yes    Not Boosted   \n",
       "848986    0.000           VIP 3       No    Not Boosted   \n",
       "\n",
       "        count_boosted_listings  ...  boost_accrual  boost_consumption  \\\n",
       "848981                     1.0  ...          5.454              5.454   \n",
       "848982                     NaN  ...            NaN                NaN   \n",
       "848984                     NaN  ...            NaN                NaN   \n",
       "848985                     NaN  ...            NaN                NaN   \n",
       "848986                     NaN  ...            NaN                NaN   \n",
       "\n",
       "        user_id  user_group parent_category              category_name  \\\n",
       "848981  1624447  Individual     Nhà đất bán        Bán căn hộ chung cư   \n",
       "848982  1693934    Business     Nhà đất bán            Bán nhà mặt phố   \n",
       "848984  1344036    Business     Nhà đất bán        Bán căn hộ chung cư   \n",
       "848985  1663249    Business     Nhà đất bán  Bán nhà biệt thự, liền kề   \n",
       "848986   693825  Individual     Nhà đất bán        Bán căn hộ chung cư   \n",
       "\n",
       "           province user_usage user_time       week  \n",
       "848981  Hồ Chí Minh      Power  Old User 2021-11-29  \n",
       "848982       Hà Nội   Frequent  Old User 2021-11-29  \n",
       "848984  Hồ Chí Minh      Power  Old User 2021-11-29  \n",
       "848985       Hà Nội      Power  Old User 2021-11-29  \n",
       "848986       Hà Nội      Power  Old User 2021-11-29  \n",
       "\n",
       "[5 rows x 21 columns]"
      ]
     },
     "execution_count": 14,
     "metadata": {},
     "output_type": "execute_result"
    }
   ],
   "source": [
    "lst.head()"
   ]
  },
  {
   "cell_type": "code",
   "execution_count": 15,
   "id": "1c07e24b",
   "metadata": {},
   "outputs": [],
   "source": [
    "lst['begin_date'] = pd.to_datetime(lst['begin_date'], yearfirst = True).dt.date\n",
    "# lst['period'] = 'v1'\n",
    "# lst['period'][lst['begin_date'] >= dt.date(2021,11,15)] = 'cool_down'\n",
    "# lst['period'][lst['begin_date'] >= dt.date(2021,12,1)] = 'v2'"
   ]
  },
  {
   "cell_type": "code",
   "execution_count": 16,
   "id": "134cda46",
   "metadata": {},
   "outputs": [
    {
     "data": {
      "text/plain": [
       "datetime.date(2022, 2, 9)"
      ]
     },
     "execution_count": 16,
     "metadata": {},
     "output_type": "execute_result"
    }
   ],
   "source": [
    "lst.begin_date.max()"
   ]
  },
  {
   "cell_type": "code",
   "execution_count": 17,
   "id": "9fab2f2a",
   "metadata": {},
   "outputs": [
    {
     "data": {
      "text/html": [
       "<div>\n",
       "<style scoped>\n",
       "    .dataframe tbody tr th:only-of-type {\n",
       "        vertical-align: middle;\n",
       "    }\n",
       "\n",
       "    .dataframe tbody tr th {\n",
       "        vertical-align: top;\n",
       "    }\n",
       "\n",
       "    .dataframe thead th {\n",
       "        text-align: right;\n",
       "    }\n",
       "</style>\n",
       "<table border=\"1\" class=\"dataframe\">\n",
       "  <thead>\n",
       "    <tr style=\"text-align: right;\">\n",
       "      <th></th>\n",
       "      <th>begin_date</th>\n",
       "      <th>duration_actual</th>\n",
       "      <th>end_date</th>\n",
       "      <th>product_id</th>\n",
       "      <th>consumption</th>\n",
       "      <th>accrual</th>\n",
       "      <th>vip_type</th>\n",
       "      <th>enlarged</th>\n",
       "      <th>boosted_or_not</th>\n",
       "      <th>count_boosted_listings</th>\n",
       "      <th>...</th>\n",
       "      <th>boost_accrual</th>\n",
       "      <th>boost_consumption</th>\n",
       "      <th>user_id</th>\n",
       "      <th>user_group</th>\n",
       "      <th>parent_category</th>\n",
       "      <th>category_name</th>\n",
       "      <th>province</th>\n",
       "      <th>user_usage</th>\n",
       "      <th>user_time</th>\n",
       "      <th>week</th>\n",
       "    </tr>\n",
       "  </thead>\n",
       "  <tbody>\n",
       "    <tr>\n",
       "      <th>848981</th>\n",
       "      <td>2021-11-30</td>\n",
       "      <td>7</td>\n",
       "      <td>2021-12-07</td>\n",
       "      <td>31645020</td>\n",
       "      <td>38.178</td>\n",
       "      <td>38.178</td>\n",
       "      <td>Normal Listing</td>\n",
       "      <td>Yes</td>\n",
       "      <td>Boosted</td>\n",
       "      <td>1.0</td>\n",
       "      <td>...</td>\n",
       "      <td>5.454</td>\n",
       "      <td>5.454</td>\n",
       "      <td>1624447</td>\n",
       "      <td>Individual</td>\n",
       "      <td>Nhà đất bán</td>\n",
       "      <td>Bán căn hộ chung cư</td>\n",
       "      <td>Hồ Chí Minh</td>\n",
       "      <td>Power</td>\n",
       "      <td>Old User</td>\n",
       "      <td>2021-11-29</td>\n",
       "    </tr>\n",
       "    <tr>\n",
       "      <th>848982</th>\n",
       "      <td>2021-11-30</td>\n",
       "      <td>7</td>\n",
       "      <td>2021-12-07</td>\n",
       "      <td>31397648</td>\n",
       "      <td>19.089</td>\n",
       "      <td>19.089</td>\n",
       "      <td>Normal Listing</td>\n",
       "      <td>No</td>\n",
       "      <td>Not Boosted</td>\n",
       "      <td>NaN</td>\n",
       "      <td>...</td>\n",
       "      <td>NaN</td>\n",
       "      <td>NaN</td>\n",
       "      <td>1693934</td>\n",
       "      <td>Business</td>\n",
       "      <td>Nhà đất bán</td>\n",
       "      <td>Bán nhà mặt phố</td>\n",
       "      <td>Hà Nội</td>\n",
       "      <td>Frequent</td>\n",
       "      <td>Old User</td>\n",
       "      <td>2021-11-29</td>\n",
       "    </tr>\n",
       "    <tr>\n",
       "      <th>848984</th>\n",
       "      <td>2021-11-30</td>\n",
       "      <td>7</td>\n",
       "      <td>2021-12-07</td>\n",
       "      <td>31420876</td>\n",
       "      <td>19.089</td>\n",
       "      <td>0.000</td>\n",
       "      <td>Normal Listing</td>\n",
       "      <td>No</td>\n",
       "      <td>Not Boosted</td>\n",
       "      <td>NaN</td>\n",
       "      <td>...</td>\n",
       "      <td>NaN</td>\n",
       "      <td>NaN</td>\n",
       "      <td>1344036</td>\n",
       "      <td>Business</td>\n",
       "      <td>Nhà đất bán</td>\n",
       "      <td>Bán căn hộ chung cư</td>\n",
       "      <td>Hồ Chí Minh</td>\n",
       "      <td>Power</td>\n",
       "      <td>Old User</td>\n",
       "      <td>2021-11-29</td>\n",
       "    </tr>\n",
       "  </tbody>\n",
       "</table>\n",
       "<p>3 rows × 21 columns</p>\n",
       "</div>"
      ],
      "text/plain": [
       "        begin_date  duration_actual    end_date  product_id  consumption  \\\n",
       "848981  2021-11-30                7  2021-12-07    31645020       38.178   \n",
       "848982  2021-11-30                7  2021-12-07    31397648       19.089   \n",
       "848984  2021-11-30                7  2021-12-07    31420876       19.089   \n",
       "\n",
       "        accrual        vip_type enlarged boosted_or_not  \\\n",
       "848981   38.178  Normal Listing      Yes        Boosted   \n",
       "848982   19.089  Normal Listing       No    Not Boosted   \n",
       "848984    0.000  Normal Listing       No    Not Boosted   \n",
       "\n",
       "        count_boosted_listings  ...  boost_accrual  boost_consumption  \\\n",
       "848981                     1.0  ...          5.454              5.454   \n",
       "848982                     NaN  ...            NaN                NaN   \n",
       "848984                     NaN  ...            NaN                NaN   \n",
       "\n",
       "        user_id  user_group parent_category        category_name     province  \\\n",
       "848981  1624447  Individual     Nhà đất bán  Bán căn hộ chung cư  Hồ Chí Minh   \n",
       "848982  1693934    Business     Nhà đất bán      Bán nhà mặt phố       Hà Nội   \n",
       "848984  1344036    Business     Nhà đất bán  Bán căn hộ chung cư  Hồ Chí Minh   \n",
       "\n",
       "       user_usage user_time       week  \n",
       "848981      Power  Old User 2021-11-29  \n",
       "848982   Frequent  Old User 2021-11-29  \n",
       "848984      Power  Old User 2021-11-29  \n",
       "\n",
       "[3 rows x 21 columns]"
      ]
     },
     "execution_count": 17,
     "metadata": {},
     "output_type": "execute_result"
    }
   ],
   "source": [
    "lst.head(3)"
   ]
  },
  {
   "cell_type": "code",
   "execution_count": 18,
   "id": "834ae0f9",
   "metadata": {},
   "outputs": [],
   "source": [
    "lst2 = lst[(lst['begin_date'] >= dt.date(2021,10,4))]"
   ]
  },
  {
   "cell_type": "code",
   "execution_count": 19,
   "id": "2bd50f3d",
   "metadata": {},
   "outputs": [],
   "source": [
    "lst1 = lst2.groupby(['week','province','user_id','user_group','user_usage'])[['consumption']].sum()"
   ]
  },
  {
   "cell_type": "code",
   "execution_count": 20,
   "id": "35f88b96",
   "metadata": {},
   "outputs": [],
   "source": [
    "# lst11 = lst2.groupby(['province','user_id','period','user_group','user_usage','old_boost_version'])[['begin_date']].nunique()\n",
    "# lst1 = pd.concat([lst10,lst11], axis = 1)"
   ]
  },
  {
   "cell_type": "code",
   "execution_count": 21,
   "id": "a6b66f94",
   "metadata": {},
   "outputs": [],
   "source": [
    "lst1.reset_index(inplace = True)"
   ]
  },
  {
   "cell_type": "code",
   "execution_count": 22,
   "id": "74d57c5a",
   "metadata": {},
   "outputs": [],
   "source": [
    "# lst2.head()"
   ]
  },
  {
   "cell_type": "code",
   "execution_count": 23,
   "id": "c5ecee9e",
   "metadata": {},
   "outputs": [],
   "source": [
    "boost = pd.read_csv(r'./DATA/boost_listing_consumption_oct_till_jan.csv')"
   ]
  },
  {
   "cell_type": "code",
   "execution_count": 24,
   "id": "1269d4e4",
   "metadata": {},
   "outputs": [],
   "source": [
    "boost1 = boost[boost['up_date'].isnull()==False]"
   ]
  },
  {
   "cell_type": "code",
   "execution_count": 25,
   "id": "65b76f8a",
   "metadata": {},
   "outputs": [],
   "source": [
    "boost1['up_date'] = pd.to_datetime(boost1['up_date'], yearfirst = True)\n",
    "boost1['week']= boost1['up_date'].dt.strftime('%Y-%W').apply(lambda x: dt.datetime.strptime(x + '-1', \"%Y-%W-%w\"), 1)"
   ]
  },
  {
   "cell_type": "code",
   "execution_count": 26,
   "id": "069d7389",
   "metadata": {},
   "outputs": [],
   "source": [
    "boost1['up_date'] = pd.to_datetime(boost1['up_date'], yearfirst = True).dt.date\n",
    "# boost1['period'] = 'v1'\n",
    "# boost1['period'][boost1['up_date'] >= dt.date(2021,11,15)] = 'cool_down'\n",
    "# boost1['period'][boost1['up_date'] >= dt.date(2021,12,1)] = 'v2'"
   ]
  },
  {
   "cell_type": "code",
   "execution_count": 27,
   "id": "e9ee4f0e",
   "metadata": {},
   "outputs": [
    {
     "data": {
      "text/html": [
       "<div>\n",
       "<style scoped>\n",
       "    .dataframe tbody tr th:only-of-type {\n",
       "        vertical-align: middle;\n",
       "    }\n",
       "\n",
       "    .dataframe tbody tr th {\n",
       "        vertical-align: top;\n",
       "    }\n",
       "\n",
       "    .dataframe thead th {\n",
       "        text-align: right;\n",
       "    }\n",
       "</style>\n",
       "<table border=\"1\" class=\"dataframe\">\n",
       "  <thead>\n",
       "    <tr style=\"text-align: right;\">\n",
       "      <th></th>\n",
       "      <th>up_date</th>\n",
       "      <th>user_id</th>\n",
       "      <th>consumption_amount</th>\n",
       "      <th>parent_category</th>\n",
       "      <th>province</th>\n",
       "      <th>week</th>\n",
       "    </tr>\n",
       "  </thead>\n",
       "  <tbody>\n",
       "    <tr>\n",
       "      <th>0</th>\n",
       "      <td>2021-09-01</td>\n",
       "      <td>753010</td>\n",
       "      <td>2.727</td>\n",
       "      <td>Nhà đất cho thuê</td>\n",
       "      <td>Hà Nội</td>\n",
       "      <td>2021-08-30</td>\n",
       "    </tr>\n",
       "    <tr>\n",
       "      <th>1</th>\n",
       "      <td>2021-09-07</td>\n",
       "      <td>89330</td>\n",
       "      <td>0.000</td>\n",
       "      <td>Nhà đất bán</td>\n",
       "      <td>Hồ Chí Minh</td>\n",
       "      <td>2021-09-06</td>\n",
       "    </tr>\n",
       "    <tr>\n",
       "      <th>2</th>\n",
       "      <td>2021-09-14</td>\n",
       "      <td>89330</td>\n",
       "      <td>0.000</td>\n",
       "      <td>Nhà đất bán</td>\n",
       "      <td>Hồ Chí Minh</td>\n",
       "      <td>2021-09-13</td>\n",
       "    </tr>\n",
       "    <tr>\n",
       "      <th>3</th>\n",
       "      <td>2021-09-21</td>\n",
       "      <td>89330</td>\n",
       "      <td>0.000</td>\n",
       "      <td>Nhà đất bán</td>\n",
       "      <td>Hồ Chí Minh</td>\n",
       "      <td>2021-09-20</td>\n",
       "    </tr>\n",
       "    <tr>\n",
       "      <th>4</th>\n",
       "      <td>2021-09-28</td>\n",
       "      <td>89330</td>\n",
       "      <td>0.000</td>\n",
       "      <td>Nhà đất bán</td>\n",
       "      <td>Hồ Chí Minh</td>\n",
       "      <td>2021-09-27</td>\n",
       "    </tr>\n",
       "  </tbody>\n",
       "</table>\n",
       "</div>"
      ],
      "text/plain": [
       "      up_date  user_id  consumption_amount   parent_category     province  \\\n",
       "0  2021-09-01   753010               2.727  Nhà đất cho thuê       Hà Nội   \n",
       "1  2021-09-07    89330               0.000       Nhà đất bán  Hồ Chí Minh   \n",
       "2  2021-09-14    89330               0.000       Nhà đất bán  Hồ Chí Minh   \n",
       "3  2021-09-21    89330               0.000       Nhà đất bán  Hồ Chí Minh   \n",
       "4  2021-09-28    89330               0.000       Nhà đất bán  Hồ Chí Minh   \n",
       "\n",
       "        week  \n",
       "0 2021-08-30  \n",
       "1 2021-09-06  \n",
       "2 2021-09-13  \n",
       "3 2021-09-20  \n",
       "4 2021-09-27  "
      ]
     },
     "execution_count": 27,
     "metadata": {},
     "output_type": "execute_result"
    }
   ],
   "source": [
    "boost1.head()"
   ]
  },
  {
   "cell_type": "code",
   "execution_count": 28,
   "id": "f946a629",
   "metadata": {},
   "outputs": [],
   "source": [
    "boost1.columns = ['up_date', 'user_id', 'boost_consumption', 'parent_category',\n",
    "       'province', 'week']"
   ]
  },
  {
   "cell_type": "code",
   "execution_count": 29,
   "id": "110d4a91",
   "metadata": {},
   "outputs": [],
   "source": [
    "boost2 = boost1[(boost1.up_date >= dt.date(2021,10,4))\n",
    "               &(boost1['parent_category']=='Nhà đất bán')].groupby(['week','user_id','province'])[['boost_consumption']].sum()"
   ]
  },
  {
   "cell_type": "code",
   "execution_count": 30,
   "id": "867ddc8e",
   "metadata": {},
   "outputs": [
    {
     "data": {
      "text/html": [
       "<div>\n",
       "<style scoped>\n",
       "    .dataframe tbody tr th:only-of-type {\n",
       "        vertical-align: middle;\n",
       "    }\n",
       "\n",
       "    .dataframe tbody tr th {\n",
       "        vertical-align: top;\n",
       "    }\n",
       "\n",
       "    .dataframe thead th {\n",
       "        text-align: right;\n",
       "    }\n",
       "</style>\n",
       "<table border=\"1\" class=\"dataframe\">\n",
       "  <thead>\n",
       "    <tr style=\"text-align: right;\">\n",
       "      <th></th>\n",
       "      <th></th>\n",
       "      <th></th>\n",
       "      <th>boost_consumption</th>\n",
       "    </tr>\n",
       "    <tr>\n",
       "      <th>week</th>\n",
       "      <th>user_id</th>\n",
       "      <th>province</th>\n",
       "      <th></th>\n",
       "    </tr>\n",
       "  </thead>\n",
       "  <tbody>\n",
       "    <tr>\n",
       "      <th rowspan=\"2\" valign=\"top\">2021-10-04</th>\n",
       "      <th>387</th>\n",
       "      <th>Hà Nội</th>\n",
       "      <td>2.727</td>\n",
       "    </tr>\n",
       "    <tr>\n",
       "      <th>393</th>\n",
       "      <th>Hồ Chí Minh</th>\n",
       "      <td>5.454</td>\n",
       "    </tr>\n",
       "  </tbody>\n",
       "</table>\n",
       "</div>"
      ],
      "text/plain": [
       "                                boost_consumption\n",
       "week       user_id province                      \n",
       "2021-10-04 387     Hà Nội                   2.727\n",
       "           393     Hồ Chí Minh              5.454"
      ]
     },
     "execution_count": 30,
     "metadata": {},
     "output_type": "execute_result"
    }
   ],
   "source": [
    "boost2.head(2)"
   ]
  },
  {
   "cell_type": "code",
   "execution_count": 31,
   "id": "ae2c655c",
   "metadata": {},
   "outputs": [],
   "source": [
    "lst_u = lst1.merge(boost2, how = 'left', left_on = ['week','user_id','province'],right_index = True).fillna(0)\n",
    "lst_u['total_consumption'] = lst_u['consumption'] + lst_u['boost_consumption']"
   ]
  },
  {
   "cell_type": "code",
   "execution_count": 32,
   "id": "fb5d2301",
   "metadata": {},
   "outputs": [],
   "source": [
    "lst_u['old_boost_version'] = \"7 day\"\n",
    "lst_u['old_boost_version'][(np.remainder(lst_u.user_id,10) < 4)&(np.remainder(lst_u.user_id,10) >= 2)] = '3 day'\n",
    "lst_u['old_boost_version'][np.remainder(lst_u.user_id,10) < 2] = '5 day'"
   ]
  },
  {
   "cell_type": "code",
   "execution_count": 33,
   "id": "b03199b4",
   "metadata": {},
   "outputs": [],
   "source": [
    "lst_u['week'] = pd.to_datetime(lst_u['week'], yearfirst = True).dt.date"
   ]
  },
  {
   "cell_type": "code",
   "execution_count": 34,
   "id": "0f6832a2",
   "metadata": {},
   "outputs": [],
   "source": [
    "lst_u['period'] = 'v1'\n",
    "lst_u['period'][lst_u['week'] >= dt.date(2021,11,15)] = 'cool_down'\n",
    "lst_u['period'][lst_u['week'] >= dt.date(2021,11,29)] = 'v2'\n",
    "lst_u['period'][lst_u['week'] >= dt.date(2022,1,1)] = 'cool_down_2'"
   ]
  },
  {
   "cell_type": "code",
   "execution_count": 35,
   "id": "19e48220",
   "metadata": {},
   "outputs": [],
   "source": [
    "# lst_u = lst_u[lst_u['period'] != 'cool_down_2']"
   ]
  },
  {
   "cell_type": "code",
   "execution_count": 36,
   "id": "d3a04b19",
   "metadata": {},
   "outputs": [
    {
     "data": {
      "text/plain": [
       "datetime.date(2021, 10, 4)"
      ]
     },
     "execution_count": 36,
     "metadata": {},
     "output_type": "execute_result"
    }
   ],
   "source": [
    "lst_u.week.min()"
   ]
  },
  {
   "cell_type": "code",
   "execution_count": 37,
   "id": "6e7399d0",
   "metadata": {},
   "outputs": [],
   "source": [
    "sns.set(rc={'figure.figsize':(15,5)})"
   ]
  },
  {
   "cell_type": "code",
   "execution_count": 38,
   "id": "138f9cc8",
   "metadata": {},
   "outputs": [],
   "source": [
    "lst_u['consumption_w'] = mstats.winsorize(lst_u['total_consumption'], limits=[0.00, 0.01])"
   ]
  },
  {
   "cell_type": "code",
   "execution_count": 39,
   "id": "8ff45d5d",
   "metadata": {},
   "outputs": [],
   "source": [
    "prov_week = lst_u.groupby(['week','province'])[['consumption_w']].mean()"
   ]
  },
  {
   "cell_type": "code",
   "execution_count": 40,
   "id": "f1e07282",
   "metadata": {},
   "outputs": [],
   "source": [
    "pr = prov_week.unstack(level = 1)"
   ]
  },
  {
   "cell_type": "code",
   "execution_count": 41,
   "id": "210ab65d",
   "metadata": {},
   "outputs": [],
   "source": [
    "pr.columns = pr.columns.get_level_values(1)"
   ]
  },
  {
   "cell_type": "code",
   "execution_count": null,
   "id": "bf4bbfaf",
   "metadata": {},
   "outputs": [],
   "source": [
    "# y = prov_week['week']\n",
    "plt.plot(pr['Hồ Chí Minh'], 'go-', label = 'Hồ Chí Minh')\n",
    "plt.plot(pr['Đồng Nai'], color='purple', label = 'Đồng Nai')\n",
    "plt.plot(pr['Bà Rịa Vũng Tàu'], color='navy', label = 'Vũng Tàu')\n",
    "# plt.plot(pr['Đà Nẵng'], 'y--', label = 'Đà Nẵng')\n",
    "# plt.plot(pr['Khánh Hòa'], 'b--', label = 'Khánh Hòa')\n",
    "plt.legend()"
   ]
  },
  {
   "cell_type": "code",
   "execution_count": 48,
   "id": "34e44d33",
   "metadata": {
    "scrolled": true
   },
   "outputs": [
    {
     "data": {
      "text/plain": [
       "<matplotlib.legend.Legend at 0x7feda1280430>"
      ]
     },
     "execution_count": 48,
     "metadata": {},
     "output_type": "execute_result"
    },
    {
     "data": {
      "image/png": "[encoded data removed]",
      "text/plain": [
       "<Figure size 1080x360 with 1 Axes>"
      ]
     },
     "metadata": {},
     "output_type": "display_data"
    }
   ],
   "source": [
    "# y = prov_week['week']\n",
    "plt.plot(pr['Hồ Chí Minh'], 'go-', label = 'Hồ Chí Minh')\n",
    "plt.plot(pr['Bình Dương'], 'b--', label = 'Bình Dương')\n",
    "plt.plot(pr['Hà Nội'], 'ro-', label = 'Hà Nội')\n",
    "# plt.plot(pr['Đồng Nai'], color='purple', label = 'Đồng Nai')\n",
    "plt.plot(pr['Bà Rịa Vũng Tàu'], 'y--', label = 'Vũng Tàu')\n",
    "# plt.plot(pr['Đà Nẵng'], 'y--', label = 'Đà Nẵng')\n",
    "# plt.plot(pr['Khánh Hòa'], 'b--', label = 'Khánh Hòa')\n",
    "plt.legend()"
   ]
  },
  {
   "cell_type": "code",
   "execution_count": 54,
   "id": "a0eaea9a",
   "metadata": {},
   "outputs": [
    {
     "data": {
      "text/plain": [
       "<matplotlib.legend.Legend at 0x7feda0f71ac0>"
      ]
     },
     "execution_count": 54,
     "metadata": {},
     "output_type": "execute_result"
    },
    {
     "data": {
      "image/png": "[encoded data removed]",
      "text/plain": [
       "<Figure size 1080x360 with 1 Axes>"
      ]
     },
     "metadata": {},
     "output_type": "display_data"
    }
   ],
   "source": [
    "# y = prov_week['week']\n",
    "plt.plot(pr['Hồ Chí Minh'], 'go-', label = 'Hồ Chí Minh')\n",
    "plt.plot(pr['Bình Dương'], 'ro-', label = 'Bình Dương')\n",
    "# plt.plot(pr['Hà Nội'], 'ro-', label = 'Hà Nội')\n",
    "plt.plot(pr['Đồng Nai'], 'b--', label = 'Đồng Nai')\n",
    "plt.plot(pr['Bà Rịa Vũng Tàu'], 'y--', label = 'Vũng Tàu')\n",
    "plt.legend()"
   ]
  },
  {
   "cell_type": "code",
   "execution_count": 43,
   "id": "a953e573",
   "metadata": {},
   "outputs": [
    {
     "data": {
      "text/plain": [
       "<matplotlib.legend.Legend at 0x7feda2d4b790>"
      ]
     },
     "execution_count": 43,
     "metadata": {},
     "output_type": "execute_result"
    },
    {
     "data": {
      "image/png": "[encoded data removed]",
      "text/plain": [
       "<Figure size 1080x360 with 1 Axes>"
      ]
     },
     "metadata": {},
     "output_type": "display_data"
    }
   ],
   "source": [
    "plt.plot(pr['Bình Dương'], 'go-', label = 'Bình Dương')\n",
    "plt.plot(pr['Đồng Nai'], color='purple', label = 'Đồng Nai')\n",
    "plt.plot(pr['Bà Rịa Vũng Tàu'], color='navy', label = 'Vũng Tàu')\n",
    "# plt.plot(pr['Cần Thơ'], color='violet', label = 'Cần Thơ')\n",
    "plt.plot(pr['Đà Nẵng'], 'y--', label = 'Đà Nẵng')\n",
    "plt.plot(pr['Khánh Hòa'], 'b--', label = 'Khánh Hòa')\n",
    "plt.legend()"
   ]
  },
  {
   "cell_type": "code",
   "execution_count": 44,
   "id": "d4214622",
   "metadata": {},
   "outputs": [
    {
     "data": {
      "text/plain": [
       "<matplotlib.legend.Legend at 0x7feda1468160>"
      ]
     },
     "execution_count": 44,
     "metadata": {},
     "output_type": "execute_result"
    },
    {
     "data": {
      "image/png": "[encoded data removed]",
      "text/plain": [
       "<Figure size 1080x360 with 1 Axes>"
      ]
     },
     "metadata": {},
     "output_type": "display_data"
    }
   ],
   "source": [
    "plt.plot(pr['Hà Nội'], 'go-', label = 'Hà Nội')\n",
    "plt.plot(pr['Hòa Bình'], 'b--', label = 'Hòa Bình')\n",
    "plt.plot(pr['Hải Phòng'], color='orange', label = 'Hải Phòng')\n",
    "plt.plot(pr['Quảng Ninh'], color='red', label = 'Quảng Ninh')\n",
    "plt.plot(pr['Hưng Yên'], color='brown', label = 'Hưng Yên')\n",
    "# plt.plot(pr['Đà Nẵng'], 'y--', label = 'Đà Nẵng')\n",
    "# plt.plot(pr['Khánh Hòa'], 'b--', label = 'Khánh Hòa')\n",
    "plt.legend()"
   ]
  },
  {
   "cell_type": "code",
   "execution_count": 288,
   "id": "e2d1ebc0",
   "metadata": {},
   "outputs": [
    {
     "data": {
      "text/html": [
       "<div>\n",
       "<style scoped>\n",
       "    .dataframe tbody tr th:only-of-type {\n",
       "        vertical-align: middle;\n",
       "    }\n",
       "\n",
       "    .dataframe tbody tr th {\n",
       "        vertical-align: top;\n",
       "    }\n",
       "\n",
       "    .dataframe thead th {\n",
       "        text-align: right;\n",
       "    }\n",
       "</style>\n",
       "<table border=\"1\" class=\"dataframe\">\n",
       "  <thead>\n",
       "    <tr style=\"text-align: right;\">\n",
       "      <th></th>\n",
       "      <th></th>\n",
       "      <th>median</th>\n",
       "      <th>q25</th>\n",
       "      <th>q75</th>\n",
       "      <th>q90</th>\n",
       "      <th>q10</th>\n",
       "    </tr>\n",
       "    <tr>\n",
       "      <th>week</th>\n",
       "      <th>province</th>\n",
       "      <th></th>\n",
       "      <th></th>\n",
       "      <th></th>\n",
       "      <th></th>\n",
       "      <th></th>\n",
       "    </tr>\n",
       "  </thead>\n",
       "  <tbody>\n",
       "    <tr>\n",
       "      <th rowspan=\"5\" valign=\"top\">2021-10-04</th>\n",
       "      <th>An Giang</th>\n",
       "      <td>19.0890</td>\n",
       "      <td>38.17800</td>\n",
       "      <td>0.000</td>\n",
       "      <td>141.2586</td>\n",
       "      <td>0.0000</td>\n",
       "    </tr>\n",
       "    <tr>\n",
       "      <th>Bà Rịa Vũng Tàu</th>\n",
       "      <td>38.1780</td>\n",
       "      <td>112.01150</td>\n",
       "      <td>19.089</td>\n",
       "      <td>281.6991</td>\n",
       "      <td>0.0000</td>\n",
       "    </tr>\n",
       "    <tr>\n",
       "      <th>Bình Dương</th>\n",
       "      <td>38.1780</td>\n",
       "      <td>84.53700</td>\n",
       "      <td>19.089</td>\n",
       "      <td>235.8085</td>\n",
       "      <td>0.0000</td>\n",
       "    </tr>\n",
       "    <tr>\n",
       "      <th>Bình Phước</th>\n",
       "      <td>57.2670</td>\n",
       "      <td>168.32250</td>\n",
       "      <td>19.089</td>\n",
       "      <td>293.4252</td>\n",
       "      <td>14.1804</td>\n",
       "    </tr>\n",
       "    <tr>\n",
       "      <th>Bình Thuận</th>\n",
       "      <td>47.4500</td>\n",
       "      <td>130.89600</td>\n",
       "      <td>19.089</td>\n",
       "      <td>499.9952</td>\n",
       "      <td>0.0000</td>\n",
       "    </tr>\n",
       "    <tr>\n",
       "      <th>...</th>\n",
       "      <th>...</th>\n",
       "      <td>...</td>\n",
       "      <td>...</td>\n",
       "      <td>...</td>\n",
       "      <td>...</td>\n",
       "      <td>...</td>\n",
       "    </tr>\n",
       "    <tr>\n",
       "      <th rowspan=\"5\" valign=\"top\">2022-01-10</th>\n",
       "      <th>Đà Nẵng</th>\n",
       "      <td>75.4015</td>\n",
       "      <td>171.80100</td>\n",
       "      <td>27.270</td>\n",
       "      <td>419.9580</td>\n",
       "      <td>19.0890</td>\n",
       "    </tr>\n",
       "    <tr>\n",
       "      <th>Đắk Lắk</th>\n",
       "      <td>27.2700</td>\n",
       "      <td>54.54000</td>\n",
       "      <td>19.089</td>\n",
       "      <td>95.4450</td>\n",
       "      <td>19.0890</td>\n",
       "    </tr>\n",
       "    <tr>\n",
       "      <th>Đắk Nông</th>\n",
       "      <td>37.2235</td>\n",
       "      <td>113.10225</td>\n",
       "      <td>19.089</td>\n",
       "      <td>413.6300</td>\n",
       "      <td>19.0890</td>\n",
       "    </tr>\n",
       "    <tr>\n",
       "      <th>Đồng Nai</th>\n",
       "      <td>57.2670</td>\n",
       "      <td>152.71200</td>\n",
       "      <td>27.270</td>\n",
       "      <td>414.2493</td>\n",
       "      <td>19.0890</td>\n",
       "    </tr>\n",
       "    <tr>\n",
       "      <th>Đồng Tháp</th>\n",
       "      <td>57.2670</td>\n",
       "      <td>350.00000</td>\n",
       "      <td>27.270</td>\n",
       "      <td>350.0000</td>\n",
       "      <td>19.0890</td>\n",
       "    </tr>\n",
       "  </tbody>\n",
       "</table>\n",
       "<p>927 rows × 5 columns</p>\n",
       "</div>"
      ],
      "text/plain": [
       "                             median        q25     q75       q90      q10\n",
       "week       province                                                      \n",
       "2021-10-04 An Giang         19.0890   38.17800   0.000  141.2586   0.0000\n",
       "           Bà Rịa Vũng Tàu  38.1780  112.01150  19.089  281.6991   0.0000\n",
       "           Bình Dương       38.1780   84.53700  19.089  235.8085   0.0000\n",
       "           Bình Phước       57.2670  168.32250  19.089  293.4252  14.1804\n",
       "           Bình Thuận       47.4500  130.89600  19.089  499.9952   0.0000\n",
       "...                             ...        ...     ...       ...      ...\n",
       "2022-01-10 Đà Nẵng          75.4015  171.80100  27.270  419.9580  19.0890\n",
       "           Đắk Lắk          27.2700   54.54000  19.089   95.4450  19.0890\n",
       "           Đắk Nông         37.2235  113.10225  19.089  413.6300  19.0890\n",
       "           Đồng Nai         57.2670  152.71200  27.270  414.2493  19.0890\n",
       "           Đồng Tháp        57.2670  350.00000  27.270  350.0000  19.0890\n",
       "\n",
       "[927 rows x 5 columns]"
      ]
     },
     "execution_count": 288,
     "metadata": {},
     "output_type": "execute_result"
    }
   ],
   "source": [
    "stat(lst_u,group=['week','province'], measure =['total_consumption'])"
   ]
  },
  {
   "cell_type": "code",
   "execution_count": 289,
   "id": "91fb0632",
   "metadata": {},
   "outputs": [],
   "source": [
    "# lst_u2 = lst_u[lst_u['week'] >= dt.date(2021, 11, 1)]\n",
    "lst_u2 = lst_u.copy()"
   ]
  },
  {
   "cell_type": "code",
   "execution_count": 290,
   "id": "d8e4124a",
   "metadata": {},
   "outputs": [],
   "source": [
    "bd_u = lst_u2[lst_u2['province'] == \"Bình Dương\"]\n",
    "hcm_u = lst_u2[lst_u2['province'] == \"Hồ Chí Minh\"]\n",
    "hn_u = lst_u2[lst_u2['province'] == \"Hà Nội\"]\n",
    "dn_u = lst_u2[lst_u2['province'] == \"Đồng Nai\"]\n",
    "la_u = lst_u2[lst_u2['province'] == \"Long An\"]\n",
    "hb_u = lst_u2[lst_u2['province'] == \"Hòa Bình\"]\n",
    "hp_u = lst_u2[lst_u2['province'] == \"Hải Phòng\"]\n",
    "vt_u = lst_u2[lst_u2['province'] == \"Bà Rịa Vũng Tàu\"]\n",
    "dna_u = lst_u2[lst_u2['province'] == \"Đà Nẵng\"]"
   ]
  },
  {
   "cell_type": "code",
   "execution_count": 291,
   "id": "105c6de5",
   "metadata": {},
   "outputs": [],
   "source": [
    "def multi_u(df,measure,split):\n",
    "    group = df[split].unique()\n",
    "#     print(group)\n",
    "    for i in range(group.shape[0]):\n",
    "        m1 = df[measure][df[split]==group[i]]\n",
    "        if i+1 < group.shape[0]:\n",
    "            m2 = df[measure][df[split]==group[i+1]]\n",
    "            gr2 = group[i+1]\n",
    "        else:\n",
    "            m2 = df[measure][df[split]==group[0]]\n",
    "            gr2 = group[0]\n",
    "        u = u_test(m1,m2)\n",
    "        print(group[i],'vs',gr2,\":\",u)"
   ]
  },
  {
   "cell_type": "code",
   "execution_count": 292,
   "id": "f41f264b",
   "metadata": {},
   "outputs": [],
   "source": [
    "def density_plot(df, measure = 'consumption_w',split = 'period', money_range = 100):\n",
    "    group = df[split].unique()\n",
    "    for i in range(group.shape[0]):\n",
    "        x = dens(df[measure][df[split]==group[i]], bin_range = money_range)\n",
    "        y = list(range(1, len(x)+1))\n",
    "        plt.plot(y, x, label = group[i])\n",
    "        \n",
    "    plt.legend()\n",
    "    plt.show()"
   ]
  },
  {
   "cell_type": "markdown",
   "id": "61d59baa",
   "metadata": {},
   "source": [
    "#  Xem có sự khác biệt giữa các nhóm người dùng đã được tham gia Boost từ trước và nhóm ko được ko"
   ]
  },
  {
   "cell_type": "code",
   "execution_count": 293,
   "id": "fd57e59b",
   "metadata": {},
   "outputs": [
    {
     "data": {
      "text/plain": [
       "Index(['begin_date', 'duration_actual', 'end_date', 'product_id',\n",
       "       'consumption', 'accrual', 'vip_type', 'enlarged', 'boosted_or_not',\n",
       "       'count_boosted_listings', 'first_boost_date_rank', 'boost_accrual',\n",
       "       'boost_consumption', 'user_id', 'user_group', 'parent_category',\n",
       "       'category_name', 'province', 'user_usage', 'user_time', 'week',\n",
       "       'is_vip', 'total_consumption'],\n",
       "      dtype='object')"
      ]
     },
     "execution_count": 293,
     "metadata": {},
     "output_type": "execute_result"
    }
   ],
   "source": [
    "lst.columns"
   ]
  },
  {
   "cell_type": "code",
   "execution_count": 296,
   "id": "0c4a197f",
   "metadata": {},
   "outputs": [],
   "source": [
    "user = lst_u.groupby(['user_id','user_group','user_usage','old_boost_version'])[['total_consumption']].sum()"
   ]
  },
  {
   "cell_type": "code",
   "execution_count": 297,
   "id": "4c95ce3f",
   "metadata": {},
   "outputs": [],
   "source": [
    "user.reset_index(inplace = True)"
   ]
  },
  {
   "cell_type": "code",
   "execution_count": 298,
   "id": "6f3544ae",
   "metadata": {},
   "outputs": [
    {
     "name": "stdout",
     "output_type": "stream",
     "text": [
      "5 day vs 7 day : MannwhitneyuResult(statistic=521134700.5, pvalue=0.09792655980064835)\n",
      "7 day vs 3 day : MannwhitneyuResult(statistic=522432404.0, pvalue=0.13762857182793747)\n",
      "3 day vs 5 day : MannwhitneyuResult(statistic=175803337.5, pvalue=0.4373382953051822)\n"
     ]
    }
   ],
   "source": [
    "multi_u(user,'total_consumption','old_boost_version')"
   ]
  },
  {
   "cell_type": "code",
   "execution_count": 300,
   "id": "4da1c60e",
   "metadata": {},
   "outputs": [],
   "source": [
    "user_prov = lst_u.groupby(['user_id','user_group','user_usage','old_boost_version','province'])[['total_consumption']].sum()\n",
    "user_prov.reset_index(inplace = True)"
   ]
  },
  {
   "cell_type": "code",
   "execution_count": 301,
   "id": "f514e27f",
   "metadata": {},
   "outputs": [
    {
     "data": {
      "text/html": [
       "<div>\n",
       "<style scoped>\n",
       "    .dataframe tbody tr th:only-of-type {\n",
       "        vertical-align: middle;\n",
       "    }\n",
       "\n",
       "    .dataframe tbody tr th {\n",
       "        vertical-align: top;\n",
       "    }\n",
       "\n",
       "    .dataframe thead th {\n",
       "        text-align: right;\n",
       "    }\n",
       "</style>\n",
       "<table border=\"1\" class=\"dataframe\">\n",
       "  <thead>\n",
       "    <tr style=\"text-align: right;\">\n",
       "      <th></th>\n",
       "      <th>week</th>\n",
       "      <th>province</th>\n",
       "      <th>user_id</th>\n",
       "      <th>user_group</th>\n",
       "      <th>user_usage</th>\n",
       "      <th>consumption</th>\n",
       "      <th>boost_consumption</th>\n",
       "      <th>total_consumption</th>\n",
       "      <th>old_boost_version</th>\n",
       "      <th>period</th>\n",
       "      <th>consumption_w</th>\n",
       "    </tr>\n",
       "  </thead>\n",
       "  <tbody>\n",
       "    <tr>\n",
       "      <th>0</th>\n",
       "      <td>2021-10-04</td>\n",
       "      <td>An Giang</td>\n",
       "      <td>141400</td>\n",
       "      <td>Individual</td>\n",
       "      <td>Frequent</td>\n",
       "      <td>169.074</td>\n",
       "      <td>0.0</td>\n",
       "      <td>169.074</td>\n",
       "      <td>5 day</td>\n",
       "      <td>v1</td>\n",
       "      <td>169.074</td>\n",
       "    </tr>\n",
       "    <tr>\n",
       "      <th>1</th>\n",
       "      <td>2021-10-04</td>\n",
       "      <td>An Giang</td>\n",
       "      <td>307635</td>\n",
       "      <td>Individual</td>\n",
       "      <td>Frequent</td>\n",
       "      <td>545.454</td>\n",
       "      <td>0.0</td>\n",
       "      <td>545.454</td>\n",
       "      <td>7 day</td>\n",
       "      <td>v1</td>\n",
       "      <td>545.454</td>\n",
       "    </tr>\n",
       "    <tr>\n",
       "      <th>2</th>\n",
       "      <td>2021-10-04</td>\n",
       "      <td>An Giang</td>\n",
       "      <td>348114</td>\n",
       "      <td>Individual</td>\n",
       "      <td>Power</td>\n",
       "      <td>38.178</td>\n",
       "      <td>0.0</td>\n",
       "      <td>38.178</td>\n",
       "      <td>7 day</td>\n",
       "      <td>v1</td>\n",
       "      <td>38.178</td>\n",
       "    </tr>\n",
       "    <tr>\n",
       "      <th>3</th>\n",
       "      <td>2021-10-04</td>\n",
       "      <td>An Giang</td>\n",
       "      <td>571973</td>\n",
       "      <td>Individual</td>\n",
       "      <td>Power</td>\n",
       "      <td>19.089</td>\n",
       "      <td>0.0</td>\n",
       "      <td>19.089</td>\n",
       "      <td>3 day</td>\n",
       "      <td>v1</td>\n",
       "      <td>19.089</td>\n",
       "    </tr>\n",
       "    <tr>\n",
       "      <th>4</th>\n",
       "      <td>2021-10-04</td>\n",
       "      <td>An Giang</td>\n",
       "      <td>829520</td>\n",
       "      <td>Individual</td>\n",
       "      <td>Frequent</td>\n",
       "      <td>0.000</td>\n",
       "      <td>0.0</td>\n",
       "      <td>0.000</td>\n",
       "      <td>5 day</td>\n",
       "      <td>v1</td>\n",
       "      <td>0.000</td>\n",
       "    </tr>\n",
       "  </tbody>\n",
       "</table>\n",
       "</div>"
      ],
      "text/plain": [
       "         week  province  user_id  user_group user_usage  consumption  \\\n",
       "0  2021-10-04  An Giang   141400  Individual   Frequent      169.074   \n",
       "1  2021-10-04  An Giang   307635  Individual   Frequent      545.454   \n",
       "2  2021-10-04  An Giang   348114  Individual      Power       38.178   \n",
       "3  2021-10-04  An Giang   571973  Individual      Power       19.089   \n",
       "4  2021-10-04  An Giang   829520  Individual   Frequent        0.000   \n",
       "\n",
       "   boost_consumption  total_consumption old_boost_version period  \\\n",
       "0                0.0            169.074             5 day     v1   \n",
       "1                0.0            545.454             7 day     v1   \n",
       "2                0.0             38.178             7 day     v1   \n",
       "3                0.0             19.089             3 day     v1   \n",
       "4                0.0              0.000             5 day     v1   \n",
       "\n",
       "   consumption_w  \n",
       "0        169.074  \n",
       "1        545.454  \n",
       "2         38.178  \n",
       "3         19.089  \n",
       "4          0.000  "
      ]
     },
     "execution_count": 301,
     "metadata": {},
     "output_type": "execute_result"
    }
   ],
   "source": [
    "lst_u.head()"
   ]
  },
  {
   "cell_type": "code",
   "execution_count": 303,
   "id": "7f72a8b3",
   "metadata": {},
   "outputs": [],
   "source": [
    "user_prov_v2 = lst_u[lst_u['week'] >= dt.date(2021,11,15)].groupby(['user_id','user_group','user_usage','old_boost_version','province'])[['total_consumption']].sum()\n",
    "user_prov_v2.reset_index(inplace = True)"
   ]
  },
  {
   "cell_type": "code",
   "execution_count": 305,
   "id": "441ea89b",
   "metadata": {},
   "outputs": [],
   "source": [
    "user_b = lst_u[lst_u['week'] >= dt.date(2021,11,15)].groupby(['user_id','user_group','user_usage','old_boost_version'])[['boost_consumption','total_consumption']].sum()"
   ]
  },
  {
   "cell_type": "code",
   "execution_count": 306,
   "id": "24376a6b",
   "metadata": {},
   "outputs": [],
   "source": [
    "user_b['boost_perc'] = user_b['boost_consumption']/user_b['total_consumption']*100"
   ]
  },
  {
   "cell_type": "code",
   "execution_count": 307,
   "id": "b4913370",
   "metadata": {},
   "outputs": [],
   "source": [
    "user_b.reset_index(inplace = True)"
   ]
  },
  {
   "cell_type": "code",
   "execution_count": 308,
   "id": "16f328f2",
   "metadata": {},
   "outputs": [
    {
     "name": "stdout",
     "output_type": "stream",
     "text": [
      "7 day vs 3 day : MannwhitneyuResult(statistic=325490913.5, pvalue=0.3525743060131168)\n",
      "3 day vs 5 day : MannwhitneyuResult(statistic=108125513.0, pvalue=0.18565646734403385)\n",
      "5 day vs 7 day : MannwhitneyuResult(statistic=323111596.0, pvalue=0.23667152952475423)\n"
     ]
    }
   ],
   "source": [
    "multi_u(user_b,'boost_perc','old_boost_version')"
   ]
  },
  {
   "cell_type": "code",
   "execution_count": 62,
   "id": "ebd9994f",
   "metadata": {},
   "outputs": [],
   "source": [
    "# user_prov_v2_b = lst_u[lst_u['week'] >= dt.date(2021,11,15)].groupby(['user_id','user_group','user_time','user_usage','old_boost_version','province'])[['boost_consumption','total_consumption']].sum()\n",
    "# user_prov_v2_b.reset_index(inplace = True)"
   ]
  },
  {
   "cell_type": "markdown",
   "id": "d7db6209",
   "metadata": {},
   "source": [
    "### Tại Hà Nội"
   ]
  },
  {
   "cell_type": "code",
   "execution_count": 309,
   "id": "955997b1",
   "metadata": {},
   "outputs": [],
   "source": [
    "hn = user_prov_v2[user_prov_v2['province']=='Hà Nội']"
   ]
  },
  {
   "cell_type": "code",
   "execution_count": 310,
   "id": "3779bf89",
   "metadata": {},
   "outputs": [
    {
     "name": "stdout",
     "output_type": "stream",
     "text": [
      "7 day vs 3 day : MannwhitneyuResult(statistic=34952072.5, pvalue=0.3409747083178357)\n",
      "3 day vs 5 day : MannwhitneyuResult(statistic=11367305.5, pvalue=0.19758627046125737)\n",
      "5 day vs 7 day : MannwhitneyuResult(statistic=34060282.5, pvalue=0.2612346900573186)\n"
     ]
    }
   ],
   "source": [
    "multi_u(hn,'total_consumption','old_boost_version')"
   ]
  },
  {
   "cell_type": "code",
   "execution_count": 311,
   "id": "fefcc34c",
   "metadata": {},
   "outputs": [
    {
     "name": "stdout",
     "output_type": "stream",
     "text": [
      "7 day vs 3 day : MannwhitneyuResult(statistic=488884336.5, pvalue=0.27432701108441204)\n",
      "3 day vs 5 day : MannwhitneyuResult(statistic=161744141.0, pvalue=0.266104435399317)\n",
      "5 day vs 7 day : MannwhitneyuResult(statistic=482886782.0, pvalue=0.44234651997062663)\n"
     ]
    }
   ],
   "source": [
    "multi_u(hn_u[hn_u['period']!='v1'],'total_consumption','old_boost_version')"
   ]
  },
  {
   "cell_type": "code",
   "execution_count": null,
   "id": "2316c7ca",
   "metadata": {},
   "outputs": [],
   "source": []
  },
  {
   "cell_type": "code",
   "execution_count": 66,
   "id": "7185aea3",
   "metadata": {},
   "outputs": [],
   "source": [
    "# hn_agent = hn_u[hn_u['user_usage']!='Casual']"
   ]
  },
  {
   "cell_type": "code",
   "execution_count": 67,
   "id": "156a8fd6",
   "metadata": {},
   "outputs": [],
   "source": [
    "# multi_u(hn_agent[hn_agent['period']!='v1'],'total_consumption','old_boost_version')"
   ]
  },
  {
   "cell_type": "code",
   "execution_count": 68,
   "id": "83980978",
   "metadata": {},
   "outputs": [],
   "source": [
    "# ax = sns.boxplot(x=\"old_boost_version\", y=\"consumption_w\", data=hn_u[hn_u['period']=='v1'].sort_values(by='old_boost_version'),showfliers = False)"
   ]
  },
  {
   "cell_type": "code",
   "execution_count": 69,
   "id": "c272bdde",
   "metadata": {},
   "outputs": [],
   "source": [
    "# hn_u[hn_u['period']=='v2'].groupby(['old_boost_version'])['consumption_w'].describe()"
   ]
  },
  {
   "cell_type": "code",
   "execution_count": 70,
   "id": "778ffe0b",
   "metadata": {},
   "outputs": [],
   "source": [
    "# density_plot(hn_u[hn_u['period']=='v1'], split = 'old_boost_version', money_range = 100)"
   ]
  },
  {
   "cell_type": "markdown",
   "id": "67dcaef8",
   "metadata": {},
   "source": [
    "### Tại HCM"
   ]
  },
  {
   "cell_type": "code",
   "execution_count": 312,
   "id": "4a29403d",
   "metadata": {},
   "outputs": [],
   "source": [
    "hcm = user_prov_v2[user_prov_v2['province']=='Hồ Chí Minh']"
   ]
  },
  {
   "cell_type": "code",
   "execution_count": 313,
   "id": "873a7e9c",
   "metadata": {},
   "outputs": [
    {
     "data": {
      "text/plain": [
       "MannwhitneyuResult(statistic=45969950.0, pvalue=0.34879042740221)"
      ]
     },
     "execution_count": 313,
     "metadata": {},
     "output_type": "execute_result"
    }
   ],
   "source": [
    "u_test(hcm['total_consumption'][(hcm['old_boost_version']=='7 day')],\n",
    "      hcm['total_consumption'][(hcm['old_boost_version']!='7 day')])"
   ]
  },
  {
   "cell_type": "markdown",
   "id": "2f0bf11d",
   "metadata": {},
   "source": [
    "Test thử với riêng Power User: Kết quả vẫn là không significant"
   ]
  },
  {
   "cell_type": "code",
   "execution_count": 73,
   "id": "23c10b69",
   "metadata": {},
   "outputs": [],
   "source": [
    "# u_test(hcm_agent['total_consumption'][(hcm_agent['old_boost_version']=='7 day')],\n",
    "#       hcm_agent['total_consumption'][(hcm_agent['old_boost_version']!='7 day')])"
   ]
  },
  {
   "cell_type": "markdown",
   "id": "ddf13784",
   "metadata": {},
   "source": [
    "**Tuy nhiên không hiểu sao khi xem dữ liệu consumption theo tuần thì kết quả test lại ra là CÓ KHÁC BIỆT giữa các nhóm người dùng ở version boost cũ**"
   ]
  },
  {
   "cell_type": "code",
   "execution_count": 314,
   "id": "82de5f76",
   "metadata": {},
   "outputs": [],
   "source": [
    "k = hcm_u.groupby(['user_id','user_group'])['total_consumption'].max()"
   ]
  },
  {
   "cell_type": "code",
   "execution_count": 315,
   "id": "821a03fd",
   "metadata": {},
   "outputs": [
    {
     "data": {
      "text/plain": [
       "user_id  user_group\n",
       "348569   Individual    19542.722\n",
       "233197   Business      19405.768\n",
       "746146   Individual    18499.963\n",
       "555980   Business      15753.463\n",
       "201783   Individual    14540.925\n",
       "233855   Business      14330.476\n",
       "541038   Individual    13802.537\n",
       "349921   Individual    11809.058\n",
       "1775702  Individual    11638.178\n",
       "425823   Business      10874.907\n",
       "Name: total_consumption, dtype: float64"
      ]
     },
     "execution_count": 315,
     "metadata": {},
     "output_type": "execute_result"
    }
   ],
   "source": [
    "k.sort_values(ascending = False).head(10)"
   ]
  },
  {
   "cell_type": "code",
   "execution_count": 316,
   "id": "5756b410",
   "metadata": {},
   "outputs": [],
   "source": [
    "hcm_agent = hcm[(hcm['user_usage']=='Power')&(hcm['user_id'].isin([]) == False)]"
   ]
  },
  {
   "cell_type": "code",
   "execution_count": 317,
   "id": "ee588ad3",
   "metadata": {},
   "outputs": [
    {
     "name": "stdout",
     "output_type": "stream",
     "text": [
      "3 day vs 5 day : MannwhitneyuResult(statistic=31492696.0, pvalue=0.13021887986345876)\n",
      "5 day vs 7 day : MannwhitneyuResult(statistic=95610554.5, pvalue=0.14300759174083116)\n",
      "7 day vs 3 day : MannwhitneyuResult(statistic=95356124.0, pvalue=0.007369243028680062)\n"
     ]
    }
   ],
   "source": [
    "multi_u(hcm_u[hcm_u['period']=='v2'],'total_consumption','old_boost_version')"
   ]
  },
  {
   "cell_type": "markdown",
   "id": "7cbbdc5c",
   "metadata": {},
   "source": [
    "Có khả năng là do có người dùng cũ mới quay lại gần đây hoặc mới tiêu thêm nhiều gần đây do trend đi lên của thị trường"
   ]
  },
  {
   "cell_type": "code",
   "execution_count": 318,
   "id": "622526ef",
   "metadata": {},
   "outputs": [
    {
     "data": {
      "text/plain": [
       "MannwhitneyuResult(statistic=190966678.5, pvalue=0.013160052259954154)"
      ]
     },
     "execution_count": 318,
     "metadata": {},
     "output_type": "execute_result"
    }
   ],
   "source": [
    "u_test(hcm_u['total_consumption'][(hcm_u['period']=='v2')&(hcm_u['old_boost_version']=='7 day')],\n",
    "      hcm_u['total_consumption'][(hcm_u['period']=='v2')&(hcm_u['old_boost_version']!='7 day')])"
   ]
  },
  {
   "cell_type": "code",
   "execution_count": 79,
   "id": "cb4c85ca",
   "metadata": {},
   "outputs": [],
   "source": [
    "# density_plot(hcm_u[hcm_u['period']=='v2'], split = 'old_boost_version', money_range = 100)"
   ]
  },
  {
   "cell_type": "code",
   "execution_count": 319,
   "id": "e15a836f",
   "metadata": {},
   "outputs": [
    {
     "data": {
      "image/png": "[encoded data removed]",
      "text/plain": [
       "<Figure size 1080x360 with 1 Axes>"
      ]
     },
     "metadata": {},
     "output_type": "display_data"
    }
   ],
   "source": [
    "ax = sns.boxplot(x=\"old_boost_version\", y=\"total_consumption\", data=hcm_u[hcm_u['period']=='v2'].sort_values(by='old_boost_version'),showfliers = False)"
   ]
  },
  {
   "cell_type": "code",
   "execution_count": 320,
   "id": "40610254",
   "metadata": {},
   "outputs": [
    {
     "data": {
      "text/html": [
       "<div>\n",
       "<style scoped>\n",
       "    .dataframe tbody tr th:only-of-type {\n",
       "        vertical-align: middle;\n",
       "    }\n",
       "\n",
       "    .dataframe tbody tr th {\n",
       "        vertical-align: top;\n",
       "    }\n",
       "\n",
       "    .dataframe thead th {\n",
       "        text-align: right;\n",
       "    }\n",
       "</style>\n",
       "<table border=\"1\" class=\"dataframe\">\n",
       "  <thead>\n",
       "    <tr style=\"text-align: right;\">\n",
       "      <th></th>\n",
       "      <th>count</th>\n",
       "      <th>mean</th>\n",
       "      <th>std</th>\n",
       "      <th>min</th>\n",
       "      <th>25%</th>\n",
       "      <th>50%</th>\n",
       "      <th>75%</th>\n",
       "      <th>max</th>\n",
       "    </tr>\n",
       "    <tr>\n",
       "      <th>old_boost_version</th>\n",
       "      <th></th>\n",
       "      <th></th>\n",
       "      <th></th>\n",
       "      <th></th>\n",
       "      <th></th>\n",
       "      <th></th>\n",
       "      <th></th>\n",
       "      <th></th>\n",
       "    </tr>\n",
       "  </thead>\n",
       "  <tbody>\n",
       "    <tr>\n",
       "      <th>3 day</th>\n",
       "      <td>22750.0</td>\n",
       "      <td>264.685221</td>\n",
       "      <td>511.284587</td>\n",
       "      <td>0.0</td>\n",
       "      <td>38.178</td>\n",
       "      <td>95.445</td>\n",
       "      <td>297.8575</td>\n",
       "      <td>14540.925</td>\n",
       "    </tr>\n",
       "    <tr>\n",
       "      <th>5 day</th>\n",
       "      <td>22327.0</td>\n",
       "      <td>280.006362</td>\n",
       "      <td>585.599196</td>\n",
       "      <td>0.0</td>\n",
       "      <td>38.178</td>\n",
       "      <td>99.263</td>\n",
       "      <td>313.7275</td>\n",
       "      <td>15753.463</td>\n",
       "    </tr>\n",
       "    <tr>\n",
       "      <th>7 day</th>\n",
       "      <td>68493.0</td>\n",
       "      <td>285.075191</td>\n",
       "      <td>552.569071</td>\n",
       "      <td>0.0</td>\n",
       "      <td>38.178</td>\n",
       "      <td>103.626</td>\n",
       "      <td>343.6020</td>\n",
       "      <td>19542.722</td>\n",
       "    </tr>\n",
       "  </tbody>\n",
       "</table>\n",
       "</div>"
      ],
      "text/plain": [
       "                     count        mean         std  min     25%      50%  \\\n",
       "old_boost_version                                                          \n",
       "3 day              22750.0  264.685221  511.284587  0.0  38.178   95.445   \n",
       "5 day              22327.0  280.006362  585.599196  0.0  38.178   99.263   \n",
       "7 day              68493.0  285.075191  552.569071  0.0  38.178  103.626   \n",
       "\n",
       "                        75%        max  \n",
       "old_boost_version                       \n",
       "3 day              297.8575  14540.925  \n",
       "5 day              313.7275  15753.463  \n",
       "7 day              343.6020  19542.722  "
      ]
     },
     "execution_count": 320,
     "metadata": {},
     "output_type": "execute_result"
    }
   ],
   "source": [
    "hcm_u.groupby(['old_boost_version'])['total_consumption'].describe()"
   ]
  },
  {
   "cell_type": "markdown",
   "id": "a10fa2bf",
   "metadata": {},
   "source": [
    "### Tại Bình Dương"
   ]
  },
  {
   "cell_type": "code",
   "execution_count": 321,
   "id": "da651f97",
   "metadata": {},
   "outputs": [],
   "source": [
    "bd = user_prov_v2[user_prov_v2['province']=='Bình Dương']"
   ]
  },
  {
   "cell_type": "code",
   "execution_count": 322,
   "id": "00b55740",
   "metadata": {},
   "outputs": [
    {
     "name": "stdout",
     "output_type": "stream",
     "text": [
      "7 day vs 5 day : MannwhitneyuResult(statistic=1832339.5, pvalue=0.2063002499491527)\n",
      "5 day vs 3 day : MannwhitneyuResult(statistic=609192.5, pvalue=0.18875639095524227)\n",
      "3 day vs 7 day : MannwhitneyuResult(statistic=1903833.5, pvalue=0.39785172994928225)\n"
     ]
    }
   ],
   "source": [
    "multi_u(bd,'total_consumption','old_boost_version')"
   ]
  },
  {
   "cell_type": "code",
   "execution_count": 323,
   "id": "d5dcbcd3",
   "metadata": {},
   "outputs": [
    {
     "name": "stdout",
     "output_type": "stream",
     "text": [
      "5 day vs 3 day : MannwhitneyuResult(statistic=1899656.0, pvalue=0.3963951438162987)\n",
      "3 day vs 7 day : MannwhitneyuResult(statistic=5972400.5, pvalue=0.20939407027462376)\n",
      "7 day vs 5 day : MannwhitneyuResult(statistic=5560447.5, pvalue=0.133607865457894)\n"
     ]
    }
   ],
   "source": [
    "multi_u(bd_u[bd_u['period']=='v2'],'total_consumption','old_boost_version')"
   ]
  },
  {
   "cell_type": "markdown",
   "id": "7f92c0ff",
   "metadata": {},
   "source": [
    "# So sánh giữa các khu vực trong các khoảng thời gian khác nhau"
   ]
  },
  {
   "cell_type": "code",
   "execution_count": 324,
   "id": "ae844740",
   "metadata": {},
   "outputs": [],
   "source": [
    "lst['total_consumption'] = lst['consumption'].fillna(0) + lst['boost_consumption'].fillna(0)"
   ]
  },
  {
   "cell_type": "code",
   "execution_count": 325,
   "id": "918447c2",
   "metadata": {},
   "outputs": [
    {
     "data": {
      "text/plain": [
       "array(['Normal Listing', 'VIP 3', 'VIP Special', 'VIP 1', 'VIP 90 Days',\n",
       "       'VIP 2'], dtype=object)"
      ]
     },
     "execution_count": 325,
     "metadata": {},
     "output_type": "execute_result"
    }
   ],
   "source": [
    "lst.vip_type.unique()"
   ]
  },
  {
   "cell_type": "code",
   "execution_count": 326,
   "id": "3c17217a",
   "metadata": {},
   "outputs": [],
   "source": [
    "lst['is_vip'] = 'vip'\n",
    "lst['is_vip'][lst.vip_type == 'Normal Listing'] = 'normal'"
   ]
  },
  {
   "cell_type": "code",
   "execution_count": 338,
   "id": "9c077646",
   "metadata": {},
   "outputs": [],
   "source": [
    "user_b = lst.groupby(['user_id'])[['boost_consumption','total_consumption']].sum()"
   ]
  },
  {
   "cell_type": "code",
   "execution_count": 339,
   "id": "6e617931",
   "metadata": {},
   "outputs": [],
   "source": [
    "user_b.reset_index(inplace = True)"
   ]
  },
  {
   "cell_type": "code",
   "execution_count": 340,
   "id": "5115053c",
   "metadata": {},
   "outputs": [
    {
     "data": {
      "text/html": [
       "<div>\n",
       "<style scoped>\n",
       "    .dataframe tbody tr th:only-of-type {\n",
       "        vertical-align: middle;\n",
       "    }\n",
       "\n",
       "    .dataframe tbody tr th {\n",
       "        vertical-align: top;\n",
       "    }\n",
       "\n",
       "    .dataframe thead th {\n",
       "        text-align: right;\n",
       "    }\n",
       "</style>\n",
       "<table border=\"1\" class=\"dataframe\">\n",
       "  <thead>\n",
       "    <tr style=\"text-align: right;\">\n",
       "      <th></th>\n",
       "      <th>user_id</th>\n",
       "      <th>boost_consumption</th>\n",
       "      <th>total_consumption</th>\n",
       "    </tr>\n",
       "  </thead>\n",
       "  <tbody>\n",
       "    <tr>\n",
       "      <th>72943</th>\n",
       "      <td>1707640</td>\n",
       "      <td>0.0</td>\n",
       "      <td>21047.258</td>\n",
       "    </tr>\n",
       "  </tbody>\n",
       "</table>\n",
       "</div>"
      ],
      "text/plain": [
       "       user_id  boost_consumption  total_consumption\n",
       "72943  1707640                0.0          21047.258"
      ]
     },
     "execution_count": 340,
     "metadata": {},
     "output_type": "execute_result"
    }
   ],
   "source": [
    "user_b[user_b.user_id == 1707640]"
   ]
  },
  {
   "cell_type": "code",
   "execution_count": 341,
   "id": "bb0b8e12",
   "metadata": {},
   "outputs": [],
   "source": [
    "lst_u_vip = lst[lst.vip_type != 'Normal Listing'].groupby(['user_id'])[['consumption','boost_consumption']].sum()"
   ]
  },
  {
   "cell_type": "code",
   "execution_count": 342,
   "id": "bdda09c4",
   "metadata": {},
   "outputs": [],
   "source": [
    "lst_u_vip['total_vip_consumption'] = lst_u_vip['consumption'] + lst_u_vip['boost_consumption']"
   ]
  },
  {
   "cell_type": "code",
   "execution_count": 343,
   "id": "0d125a4f",
   "metadata": {},
   "outputs": [],
   "source": [
    "lst_u_vip.reset_index(inplace = True)"
   ]
  },
  {
   "cell_type": "code",
   "execution_count": 358,
   "id": "c2dd6b55",
   "metadata": {},
   "outputs": [
    {
     "data": {
      "text/html": [
       "<div>\n",
       "<style scoped>\n",
       "    .dataframe tbody tr th:only-of-type {\n",
       "        vertical-align: middle;\n",
       "    }\n",
       "\n",
       "    .dataframe tbody tr th {\n",
       "        vertical-align: top;\n",
       "    }\n",
       "\n",
       "    .dataframe thead th {\n",
       "        text-align: right;\n",
       "    }\n",
       "</style>\n",
       "<table border=\"1\" class=\"dataframe\">\n",
       "  <thead>\n",
       "    <tr style=\"text-align: right;\">\n",
       "      <th></th>\n",
       "      <th>user_id</th>\n",
       "      <th>consumption</th>\n",
       "      <th>boost_consumption</th>\n",
       "      <th>total_vip_consumption</th>\n",
       "    </tr>\n",
       "  </thead>\n",
       "  <tbody>\n",
       "  </tbody>\n",
       "</table>\n",
       "</div>"
      ],
      "text/plain": [
       "Empty DataFrame\n",
       "Columns: [user_id, consumption, boost_consumption, total_vip_consumption]\n",
       "Index: []"
      ]
     },
     "execution_count": 358,
     "metadata": {},
     "output_type": "execute_result"
    }
   ],
   "source": [
    "lst_u_vip[lst_u_vip.user_id == 2096]"
   ]
  },
  {
   "cell_type": "code",
   "execution_count": 345,
   "id": "4cc42a11",
   "metadata": {},
   "outputs": [],
   "source": [
    "user_b['boost_perc'] = user_b['boost_consumption']/user_b['total_consumption']*100"
   ]
  },
  {
   "cell_type": "code",
   "execution_count": 346,
   "id": "1b64cd57",
   "metadata": {},
   "outputs": [],
   "source": [
    "no_boost = user_b[user_b['boost_perc']==0]"
   ]
  },
  {
   "cell_type": "code",
   "execution_count": 347,
   "id": "6f71589c",
   "metadata": {},
   "outputs": [
    {
     "data": {
      "text/html": [
       "<div>\n",
       "<style scoped>\n",
       "    .dataframe tbody tr th:only-of-type {\n",
       "        vertical-align: middle;\n",
       "    }\n",
       "\n",
       "    .dataframe tbody tr th {\n",
       "        vertical-align: top;\n",
       "    }\n",
       "\n",
       "    .dataframe thead th {\n",
       "        text-align: right;\n",
       "    }\n",
       "</style>\n",
       "<table border=\"1\" class=\"dataframe\">\n",
       "  <thead>\n",
       "    <tr style=\"text-align: right;\">\n",
       "      <th></th>\n",
       "      <th>user_id</th>\n",
       "      <th>boost_consumption</th>\n",
       "      <th>total_consumption</th>\n",
       "      <th>boost_perc</th>\n",
       "    </tr>\n",
       "  </thead>\n",
       "  <tbody>\n",
       "    <tr>\n",
       "      <th>0</th>\n",
       "      <td>141</td>\n",
       "      <td>0.000</td>\n",
       "      <td>19.089</td>\n",
       "      <td>0.000000</td>\n",
       "    </tr>\n",
       "    <tr>\n",
       "      <th>1</th>\n",
       "      <td>159</td>\n",
       "      <td>0.000</td>\n",
       "      <td>104.988</td>\n",
       "      <td>0.000000</td>\n",
       "    </tr>\n",
       "    <tr>\n",
       "      <th>2</th>\n",
       "      <td>162</td>\n",
       "      <td>0.000</td>\n",
       "      <td>109.080</td>\n",
       "      <td>0.000000</td>\n",
       "    </tr>\n",
       "    <tr>\n",
       "      <th>3</th>\n",
       "      <td>169</td>\n",
       "      <td>16.362</td>\n",
       "      <td>452.682</td>\n",
       "      <td>3.614458</td>\n",
       "    </tr>\n",
       "    <tr>\n",
       "      <th>4</th>\n",
       "      <td>198</td>\n",
       "      <td>0.000</td>\n",
       "      <td>38.178</td>\n",
       "      <td>0.000000</td>\n",
       "    </tr>\n",
       "  </tbody>\n",
       "</table>\n",
       "</div>"
      ],
      "text/plain": [
       "   user_id  boost_consumption  total_consumption  boost_perc\n",
       "0      141              0.000             19.089    0.000000\n",
       "1      159              0.000            104.988    0.000000\n",
       "2      162              0.000            109.080    0.000000\n",
       "3      169             16.362            452.682    3.614458\n",
       "4      198              0.000             38.178    0.000000"
      ]
     },
     "execution_count": 347,
     "metadata": {},
     "output_type": "execute_result"
    }
   ],
   "source": [
    "user_b.head()"
   ]
  },
  {
   "cell_type": "code",
   "execution_count": 362,
   "id": "e3dca9cc",
   "metadata": {},
   "outputs": [
    {
     "data": {
      "text/html": [
       "<div>\n",
       "<style scoped>\n",
       "    .dataframe tbody tr th:only-of-type {\n",
       "        vertical-align: middle;\n",
       "    }\n",
       "\n",
       "    .dataframe tbody tr th {\n",
       "        vertical-align: top;\n",
       "    }\n",
       "\n",
       "    .dataframe thead th {\n",
       "        text-align: right;\n",
       "    }\n",
       "</style>\n",
       "<table border=\"1\" class=\"dataframe\">\n",
       "  <thead>\n",
       "    <tr style=\"text-align: right;\">\n",
       "      <th></th>\n",
       "      <th>user_id</th>\n",
       "      <th>consumption</th>\n",
       "      <th>boost_consumption</th>\n",
       "      <th>total_vip_consumption</th>\n",
       "    </tr>\n",
       "  </thead>\n",
       "  <tbody>\n",
       "    <tr>\n",
       "      <th>0</th>\n",
       "      <td>301</td>\n",
       "      <td>545.454</td>\n",
       "      <td>0.000</td>\n",
       "      <td>545.454</td>\n",
       "    </tr>\n",
       "    <tr>\n",
       "      <th>1</th>\n",
       "      <td>382</td>\n",
       "      <td>350.000</td>\n",
       "      <td>0.000</td>\n",
       "      <td>350.000</td>\n",
       "    </tr>\n",
       "    <tr>\n",
       "      <th>2</th>\n",
       "      <td>387</td>\n",
       "      <td>15272.712</td>\n",
       "      <td>181.818</td>\n",
       "      <td>15454.530</td>\n",
       "    </tr>\n",
       "    <tr>\n",
       "      <th>3</th>\n",
       "      <td>393</td>\n",
       "      <td>1818.180</td>\n",
       "      <td>0.000</td>\n",
       "      <td>1818.180</td>\n",
       "    </tr>\n",
       "    <tr>\n",
       "      <th>4</th>\n",
       "      <td>415</td>\n",
       "      <td>350.000</td>\n",
       "      <td>0.000</td>\n",
       "      <td>350.000</td>\n",
       "    </tr>\n",
       "  </tbody>\n",
       "</table>\n",
       "</div>"
      ],
      "text/plain": [
       "   user_id  consumption  boost_consumption  total_vip_consumption\n",
       "0      301      545.454              0.000                545.454\n",
       "1      382      350.000              0.000                350.000\n",
       "2      387    15272.712            181.818              15454.530\n",
       "3      393     1818.180              0.000               1818.180\n",
       "4      415      350.000              0.000                350.000"
      ]
     },
     "execution_count": 362,
     "metadata": {},
     "output_type": "execute_result"
    }
   ],
   "source": [
    "lst_u_vip.head()"
   ]
  },
  {
   "cell_type": "code",
   "execution_count": 363,
   "id": "63237ff3",
   "metadata": {},
   "outputs": [],
   "source": [
    "ub2 = user_b.merge(lst_u_vip[['user_id','total_vip_consumption']], how = 'left', on = ['user_id']).fillna(0)"
   ]
  },
  {
   "cell_type": "code",
   "execution_count": 364,
   "id": "4415bd0d",
   "metadata": {},
   "outputs": [],
   "source": [
    "ub2 = ub2[ub2['total_consumption']>0]"
   ]
  },
  {
   "cell_type": "code",
   "execution_count": 365,
   "id": "1f1da66c",
   "metadata": {},
   "outputs": [],
   "source": [
    "ub2['vip_percentage'] = ub2['total_vip_consumption']/ub2['total_consumption']*100"
   ]
  },
  {
   "cell_type": "code",
   "execution_count": 366,
   "id": "1ee073ba",
   "metadata": {},
   "outputs": [
    {
     "data": {
      "text/html": [
       "<div>\n",
       "<style scoped>\n",
       "    .dataframe tbody tr th:only-of-type {\n",
       "        vertical-align: middle;\n",
       "    }\n",
       "\n",
       "    .dataframe tbody tr th {\n",
       "        vertical-align: top;\n",
       "    }\n",
       "\n",
       "    .dataframe thead th {\n",
       "        text-align: right;\n",
       "    }\n",
       "</style>\n",
       "<table border=\"1\" class=\"dataframe\">\n",
       "  <thead>\n",
       "    <tr style=\"text-align: right;\">\n",
       "      <th></th>\n",
       "      <th>user_id</th>\n",
       "      <th>boost_consumption</th>\n",
       "      <th>total_consumption</th>\n",
       "      <th>boost_perc</th>\n",
       "      <th>total_vip_consumption</th>\n",
       "      <th>vip_percentage</th>\n",
       "    </tr>\n",
       "  </thead>\n",
       "  <tbody>\n",
       "    <tr>\n",
       "      <th>0</th>\n",
       "      <td>141</td>\n",
       "      <td>0.000</td>\n",
       "      <td>19.089</td>\n",
       "      <td>0.000000</td>\n",
       "      <td>0.0</td>\n",
       "      <td>0.0</td>\n",
       "    </tr>\n",
       "    <tr>\n",
       "      <th>1</th>\n",
       "      <td>159</td>\n",
       "      <td>0.000</td>\n",
       "      <td>104.988</td>\n",
       "      <td>0.000000</td>\n",
       "      <td>0.0</td>\n",
       "      <td>0.0</td>\n",
       "    </tr>\n",
       "    <tr>\n",
       "      <th>2</th>\n",
       "      <td>162</td>\n",
       "      <td>0.000</td>\n",
       "      <td>109.080</td>\n",
       "      <td>0.000000</td>\n",
       "      <td>0.0</td>\n",
       "      <td>0.0</td>\n",
       "    </tr>\n",
       "    <tr>\n",
       "      <th>3</th>\n",
       "      <td>169</td>\n",
       "      <td>16.362</td>\n",
       "      <td>452.682</td>\n",
       "      <td>3.614458</td>\n",
       "      <td>0.0</td>\n",
       "      <td>0.0</td>\n",
       "    </tr>\n",
       "    <tr>\n",
       "      <th>4</th>\n",
       "      <td>198</td>\n",
       "      <td>0.000</td>\n",
       "      <td>38.178</td>\n",
       "      <td>0.000000</td>\n",
       "      <td>0.0</td>\n",
       "      <td>0.0</td>\n",
       "    </tr>\n",
       "  </tbody>\n",
       "</table>\n",
       "</div>"
      ],
      "text/plain": [
       "   user_id  boost_consumption  total_consumption  boost_perc  \\\n",
       "0      141              0.000             19.089    0.000000   \n",
       "1      159              0.000            104.988    0.000000   \n",
       "2      162              0.000            109.080    0.000000   \n",
       "3      169             16.362            452.682    3.614458   \n",
       "4      198              0.000             38.178    0.000000   \n",
       "\n",
       "   total_vip_consumption  vip_percentage  \n",
       "0                    0.0             0.0  \n",
       "1                    0.0             0.0  \n",
       "2                    0.0             0.0  \n",
       "3                    0.0             0.0  \n",
       "4                    0.0             0.0  "
      ]
     },
     "execution_count": 366,
     "metadata": {},
     "output_type": "execute_result"
    }
   ],
   "source": [
    "ub2.head()"
   ]
  },
  {
   "cell_type": "code",
   "execution_count": 367,
   "id": "325db0c8",
   "metadata": {},
   "outputs": [],
   "source": [
    "ub2['boost_user'] = \"boost\"\n",
    "ub2['boost_user'][ub2['boost_perc']==0] = 'non-boost'"
   ]
  },
  {
   "cell_type": "code",
   "execution_count": 368,
   "id": "45c80a00",
   "metadata": {},
   "outputs": [
    {
     "name": "stdout",
     "output_type": "stream",
     "text": [
      "non-boost vs boost : MannwhitneyuResult(statistic=893436527.0, pvalue=1.6083580250386525e-104)\n",
      "boost vs non-boost : MannwhitneyuResult(statistic=893436527.0, pvalue=1.6083580250386525e-104)\n"
     ]
    }
   ],
   "source": [
    "multi_u(ub2,'vip_percentage','boost_user')"
   ]
  },
  {
   "cell_type": "code",
   "execution_count": 369,
   "id": "db3d31d1",
   "metadata": {},
   "outputs": [
    {
     "data": {
      "text/html": [
       "<div>\n",
       "<style scoped>\n",
       "    .dataframe tbody tr th:only-of-type {\n",
       "        vertical-align: middle;\n",
       "    }\n",
       "\n",
       "    .dataframe tbody tr th {\n",
       "        vertical-align: top;\n",
       "    }\n",
       "\n",
       "    .dataframe thead th {\n",
       "        text-align: right;\n",
       "    }\n",
       "</style>\n",
       "<table border=\"1\" class=\"dataframe\">\n",
       "  <thead>\n",
       "    <tr style=\"text-align: right;\">\n",
       "      <th></th>\n",
       "      <th>count</th>\n",
       "      <th>mean</th>\n",
       "      <th>std</th>\n",
       "      <th>min</th>\n",
       "      <th>25%</th>\n",
       "      <th>50%</th>\n",
       "      <th>75%</th>\n",
       "      <th>max</th>\n",
       "    </tr>\n",
       "    <tr>\n",
       "      <th>boost_user</th>\n",
       "      <th></th>\n",
       "      <th></th>\n",
       "      <th></th>\n",
       "      <th></th>\n",
       "      <th></th>\n",
       "      <th></th>\n",
       "      <th></th>\n",
       "      <th></th>\n",
       "    </tr>\n",
       "  </thead>\n",
       "  <tbody>\n",
       "    <tr>\n",
       "      <th>boost</th>\n",
       "      <td>26788.0</td>\n",
       "      <td>19.148371</td>\n",
       "      <td>31.212523</td>\n",
       "      <td>0.0</td>\n",
       "      <td>0.0</td>\n",
       "      <td>0.0</td>\n",
       "      <td>34.168193</td>\n",
       "      <td>100.0</td>\n",
       "    </tr>\n",
       "    <tr>\n",
       "      <th>non-boost</th>\n",
       "      <td>71633.0</td>\n",
       "      <td>18.977957</td>\n",
       "      <td>36.708586</td>\n",
       "      <td>0.0</td>\n",
       "      <td>0.0</td>\n",
       "      <td>0.0</td>\n",
       "      <td>0.000000</td>\n",
       "      <td>100.0</td>\n",
       "    </tr>\n",
       "  </tbody>\n",
       "</table>\n",
       "</div>"
      ],
      "text/plain": [
       "              count       mean        std  min  25%  50%        75%    max\n",
       "boost_user                                                                \n",
       "boost       26788.0  19.148371  31.212523  0.0  0.0  0.0  34.168193  100.0\n",
       "non-boost   71633.0  18.977957  36.708586  0.0  0.0  0.0   0.000000  100.0"
      ]
     },
     "execution_count": 369,
     "metadata": {},
     "output_type": "execute_result"
    }
   ],
   "source": [
    "ub2.groupby(['boost_user'])['vip_percentage'].describe()"
   ]
  },
  {
   "cell_type": "code",
   "execution_count": 371,
   "id": "79836a5e",
   "metadata": {},
   "outputs": [
    {
     "data": {
      "text/html": [
       "<div>\n",
       "<style scoped>\n",
       "    .dataframe tbody tr th:only-of-type {\n",
       "        vertical-align: middle;\n",
       "    }\n",
       "\n",
       "    .dataframe tbody tr th {\n",
       "        vertical-align: top;\n",
       "    }\n",
       "\n",
       "    .dataframe thead th {\n",
       "        text-align: right;\n",
       "    }\n",
       "</style>\n",
       "<table border=\"1\" class=\"dataframe\">\n",
       "  <thead>\n",
       "    <tr style=\"text-align: right;\">\n",
       "      <th></th>\n",
       "      <th>count</th>\n",
       "      <th>mean</th>\n",
       "      <th>std</th>\n",
       "      <th>min</th>\n",
       "      <th>25%</th>\n",
       "      <th>50%</th>\n",
       "      <th>75%</th>\n",
       "      <th>max</th>\n",
       "    </tr>\n",
       "    <tr>\n",
       "      <th>boost_user</th>\n",
       "      <th></th>\n",
       "      <th></th>\n",
       "      <th></th>\n",
       "      <th></th>\n",
       "      <th></th>\n",
       "      <th></th>\n",
       "      <th></th>\n",
       "      <th></th>\n",
       "    </tr>\n",
       "  </thead>\n",
       "  <tbody>\n",
       "    <tr>\n",
       "      <th>boost</th>\n",
       "      <td>26788.0</td>\n",
       "      <td>2717.848239</td>\n",
       "      <td>5345.661229</td>\n",
       "      <td>2.727</td>\n",
       "      <td>433.593</td>\n",
       "      <td>1177.396</td>\n",
       "      <td>3052.565</td>\n",
       "      <td>201972.236</td>\n",
       "    </tr>\n",
       "    <tr>\n",
       "      <th>non-boost</th>\n",
       "      <td>71633.0</td>\n",
       "      <td>679.395682</td>\n",
       "      <td>3221.740720</td>\n",
       "      <td>14.999</td>\n",
       "      <td>38.178</td>\n",
       "      <td>130.896</td>\n",
       "      <td>591.759</td>\n",
       "      <td>697207.955</td>\n",
       "    </tr>\n",
       "  </tbody>\n",
       "</table>\n",
       "</div>"
      ],
      "text/plain": [
       "              count         mean          std     min      25%       50%  \\\n",
       "boost_user                                                                 \n",
       "boost       26788.0  2717.848239  5345.661229   2.727  433.593  1177.396   \n",
       "non-boost   71633.0   679.395682  3221.740720  14.999   38.178   130.896   \n",
       "\n",
       "                 75%         max  \n",
       "boost_user                        \n",
       "boost       3052.565  201972.236  \n",
       "non-boost    591.759  697207.955  "
      ]
     },
     "execution_count": 371,
     "metadata": {},
     "output_type": "execute_result"
    }
   ],
   "source": [
    "ub2.groupby(['boost_user'])['total_consumption'].describe()"
   ]
  },
  {
   "cell_type": "code",
   "execution_count": 373,
   "id": "b2ba473e",
   "metadata": {},
   "outputs": [],
   "source": [
    "# ub2.sort_values(by=['vip_percentage'], ascending = False)"
   ]
  },
  {
   "cell_type": "code",
   "execution_count": 90,
   "id": "9c9326d7",
   "metadata": {},
   "outputs": [
    {
     "data": {
      "text/plain": [
       "95779"
      ]
     },
     "execution_count": 90,
     "metadata": {},
     "output_type": "execute_result"
    }
   ],
   "source": [
    "user_b.shape[0]"
   ]
  },
  {
   "cell_type": "code",
   "execution_count": 375,
   "id": "78bec2f3",
   "metadata": {},
   "outputs": [
    {
     "data": {
      "text/plain": [
       "0            141\n",
       "1            159\n",
       "2            162\n",
       "4            198\n",
       "5            222\n",
       "          ...   \n",
       "98535    1782853\n",
       "98536    1782859\n",
       "98537    1783040\n",
       "98538    1783082\n",
       "98539    1783297\n",
       "Name: user_id, Length: 71633, dtype: int64"
      ]
     },
     "execution_count": 375,
     "metadata": {},
     "output_type": "execute_result"
    }
   ],
   "source": [
    "no_boost['user_id']"
   ]
  },
  {
   "cell_type": "code",
   "execution_count": 378,
   "id": "16942676",
   "metadata": {},
   "outputs": [
    {
     "data": {
      "text/html": [
       "<div>\n",
       "<style scoped>\n",
       "    .dataframe tbody tr th:only-of-type {\n",
       "        vertical-align: middle;\n",
       "    }\n",
       "\n",
       "    .dataframe tbody tr th {\n",
       "        vertical-align: top;\n",
       "    }\n",
       "\n",
       "    .dataframe thead th {\n",
       "        text-align: right;\n",
       "    }\n",
       "</style>\n",
       "<table border=\"1\" class=\"dataframe\">\n",
       "  <thead>\n",
       "    <tr style=\"text-align: right;\">\n",
       "      <th></th>\n",
       "      <th>week</th>\n",
       "      <th>province</th>\n",
       "      <th>user_id</th>\n",
       "      <th>user_group</th>\n",
       "      <th>user_usage</th>\n",
       "      <th>consumption</th>\n",
       "      <th>boost_consumption</th>\n",
       "      <th>total_consumption</th>\n",
       "      <th>old_boost_version</th>\n",
       "      <th>period</th>\n",
       "      <th>consumption_w</th>\n",
       "    </tr>\n",
       "  </thead>\n",
       "  <tbody>\n",
       "    <tr>\n",
       "      <th>0</th>\n",
       "      <td>2021-10-04</td>\n",
       "      <td>An Giang</td>\n",
       "      <td>141400</td>\n",
       "      <td>Individual</td>\n",
       "      <td>Frequent</td>\n",
       "      <td>169.074</td>\n",
       "      <td>0.0</td>\n",
       "      <td>169.074</td>\n",
       "      <td>5 day</td>\n",
       "      <td>v1</td>\n",
       "      <td>169.074</td>\n",
       "    </tr>\n",
       "    <tr>\n",
       "      <th>1</th>\n",
       "      <td>2021-10-04</td>\n",
       "      <td>An Giang</td>\n",
       "      <td>307635</td>\n",
       "      <td>Individual</td>\n",
       "      <td>Frequent</td>\n",
       "      <td>545.454</td>\n",
       "      <td>0.0</td>\n",
       "      <td>545.454</td>\n",
       "      <td>7 day</td>\n",
       "      <td>v1</td>\n",
       "      <td>545.454</td>\n",
       "    </tr>\n",
       "    <tr>\n",
       "      <th>2</th>\n",
       "      <td>2021-10-04</td>\n",
       "      <td>An Giang</td>\n",
       "      <td>348114</td>\n",
       "      <td>Individual</td>\n",
       "      <td>Power</td>\n",
       "      <td>38.178</td>\n",
       "      <td>0.0</td>\n",
       "      <td>38.178</td>\n",
       "      <td>7 day</td>\n",
       "      <td>v1</td>\n",
       "      <td>38.178</td>\n",
       "    </tr>\n",
       "    <tr>\n",
       "      <th>3</th>\n",
       "      <td>2021-10-04</td>\n",
       "      <td>An Giang</td>\n",
       "      <td>571973</td>\n",
       "      <td>Individual</td>\n",
       "      <td>Power</td>\n",
       "      <td>19.089</td>\n",
       "      <td>0.0</td>\n",
       "      <td>19.089</td>\n",
       "      <td>3 day</td>\n",
       "      <td>v1</td>\n",
       "      <td>19.089</td>\n",
       "    </tr>\n",
       "    <tr>\n",
       "      <th>4</th>\n",
       "      <td>2021-10-04</td>\n",
       "      <td>An Giang</td>\n",
       "      <td>829520</td>\n",
       "      <td>Individual</td>\n",
       "      <td>Frequent</td>\n",
       "      <td>0.000</td>\n",
       "      <td>0.0</td>\n",
       "      <td>0.000</td>\n",
       "      <td>5 day</td>\n",
       "      <td>v1</td>\n",
       "      <td>0.000</td>\n",
       "    </tr>\n",
       "  </tbody>\n",
       "</table>\n",
       "</div>"
      ],
      "text/plain": [
       "         week  province  user_id  user_group user_usage  consumption  \\\n",
       "0  2021-10-04  An Giang   141400  Individual   Frequent      169.074   \n",
       "1  2021-10-04  An Giang   307635  Individual   Frequent      545.454   \n",
       "2  2021-10-04  An Giang   348114  Individual      Power       38.178   \n",
       "3  2021-10-04  An Giang   571973  Individual      Power       19.089   \n",
       "4  2021-10-04  An Giang   829520  Individual   Frequent        0.000   \n",
       "\n",
       "   boost_consumption  total_consumption old_boost_version period  \\\n",
       "0                0.0            169.074             5 day     v1   \n",
       "1                0.0            545.454             7 day     v1   \n",
       "2                0.0             38.178             7 day     v1   \n",
       "3                0.0             19.089             3 day     v1   \n",
       "4                0.0              0.000             5 day     v1   \n",
       "\n",
       "   consumption_w  \n",
       "0        169.074  \n",
       "1        545.454  \n",
       "2         38.178  \n",
       "3         19.089  \n",
       "4          0.000  "
      ]
     },
     "execution_count": 378,
     "metadata": {},
     "output_type": "execute_result"
    }
   ],
   "source": [
    "lst_u.head()"
   ]
  },
  {
   "cell_type": "code",
   "execution_count": 379,
   "id": "d6ffbdfd",
   "metadata": {},
   "outputs": [],
   "source": [
    "nbu = lst_u.merge(no_boost['user_id'], on = 'user_id', how = 'inner')"
   ]
  },
  {
   "cell_type": "code",
   "execution_count": 380,
   "id": "7e264f38",
   "metadata": {},
   "outputs": [
    {
     "data": {
      "text/html": [
       "<div>\n",
       "<style scoped>\n",
       "    .dataframe tbody tr th:only-of-type {\n",
       "        vertical-align: middle;\n",
       "    }\n",
       "\n",
       "    .dataframe tbody tr th {\n",
       "        vertical-align: top;\n",
       "    }\n",
       "\n",
       "    .dataframe thead th {\n",
       "        text-align: right;\n",
       "    }\n",
       "</style>\n",
       "<table border=\"1\" class=\"dataframe\">\n",
       "  <thead>\n",
       "    <tr style=\"text-align: right;\">\n",
       "      <th></th>\n",
       "      <th>week</th>\n",
       "      <th>province</th>\n",
       "      <th>user_id</th>\n",
       "      <th>user_group</th>\n",
       "      <th>user_usage</th>\n",
       "      <th>consumption</th>\n",
       "      <th>boost_consumption</th>\n",
       "      <th>total_consumption</th>\n",
       "      <th>old_boost_version</th>\n",
       "      <th>period</th>\n",
       "      <th>consumption_w</th>\n",
       "    </tr>\n",
       "  </thead>\n",
       "  <tbody>\n",
       "    <tr>\n",
       "      <th>0</th>\n",
       "      <td>2021-10-04</td>\n",
       "      <td>An Giang</td>\n",
       "      <td>141400</td>\n",
       "      <td>Individual</td>\n",
       "      <td>Frequent</td>\n",
       "      <td>169.074</td>\n",
       "      <td>0.0</td>\n",
       "      <td>169.074</td>\n",
       "      <td>5 day</td>\n",
       "      <td>v1</td>\n",
       "      <td>169.074</td>\n",
       "    </tr>\n",
       "    <tr>\n",
       "      <th>1</th>\n",
       "      <td>2021-11-01</td>\n",
       "      <td>An Giang</td>\n",
       "      <td>141400</td>\n",
       "      <td>Individual</td>\n",
       "      <td>Frequent</td>\n",
       "      <td>27.270</td>\n",
       "      <td>0.0</td>\n",
       "      <td>27.270</td>\n",
       "      <td>5 day</td>\n",
       "      <td>v1</td>\n",
       "      <td>27.270</td>\n",
       "    </tr>\n",
       "    <tr>\n",
       "      <th>2</th>\n",
       "      <td>2021-12-20</td>\n",
       "      <td>An Giang</td>\n",
       "      <td>141400</td>\n",
       "      <td>Individual</td>\n",
       "      <td>Frequent</td>\n",
       "      <td>27.270</td>\n",
       "      <td>0.0</td>\n",
       "      <td>27.270</td>\n",
       "      <td>5 day</td>\n",
       "      <td>v2</td>\n",
       "      <td>27.270</td>\n",
       "    </tr>\n",
       "    <tr>\n",
       "      <th>3</th>\n",
       "      <td>2022-01-10</td>\n",
       "      <td>An Giang</td>\n",
       "      <td>141400</td>\n",
       "      <td>Individual</td>\n",
       "      <td>Frequent</td>\n",
       "      <td>84.537</td>\n",
       "      <td>0.0</td>\n",
       "      <td>84.537</td>\n",
       "      <td>5 day</td>\n",
       "      <td>cool_down_2</td>\n",
       "      <td>84.537</td>\n",
       "    </tr>\n",
       "    <tr>\n",
       "      <th>4</th>\n",
       "      <td>2021-10-04</td>\n",
       "      <td>An Giang</td>\n",
       "      <td>307635</td>\n",
       "      <td>Individual</td>\n",
       "      <td>Frequent</td>\n",
       "      <td>545.454</td>\n",
       "      <td>0.0</td>\n",
       "      <td>545.454</td>\n",
       "      <td>7 day</td>\n",
       "      <td>v1</td>\n",
       "      <td>545.454</td>\n",
       "    </tr>\n",
       "  </tbody>\n",
       "</table>\n",
       "</div>"
      ],
      "text/plain": [
       "         week  province  user_id  user_group user_usage  consumption  \\\n",
       "0  2021-10-04  An Giang   141400  Individual   Frequent      169.074   \n",
       "1  2021-11-01  An Giang   141400  Individual   Frequent       27.270   \n",
       "2  2021-12-20  An Giang   141400  Individual   Frequent       27.270   \n",
       "3  2022-01-10  An Giang   141400  Individual   Frequent       84.537   \n",
       "4  2021-10-04  An Giang   307635  Individual   Frequent      545.454   \n",
       "\n",
       "   boost_consumption  total_consumption old_boost_version       period  \\\n",
       "0                0.0            169.074             5 day           v1   \n",
       "1                0.0             27.270             5 day           v1   \n",
       "2                0.0             27.270             5 day           v2   \n",
       "3                0.0             84.537             5 day  cool_down_2   \n",
       "4                0.0            545.454             7 day           v1   \n",
       "\n",
       "   consumption_w  \n",
       "0        169.074  \n",
       "1         27.270  \n",
       "2         27.270  \n",
       "3         84.537  \n",
       "4        545.454  "
      ]
     },
     "execution_count": 380,
     "metadata": {},
     "output_type": "execute_result"
    }
   ],
   "source": [
    "nbu.head()"
   ]
  },
  {
   "cell_type": "code",
   "execution_count": 383,
   "id": "dddc0996",
   "metadata": {},
   "outputs": [
    {
     "name": "stdout",
     "output_type": "stream",
     "text": [
      "v1 vs v2 : MannwhitneyuResult(statistic=3628291634.5, pvalue=1.300420992439351e-54)\n",
      "v2 vs cool_down_2 : MannwhitneyuResult(statistic=1323386260.5, pvalue=0.37866275657123993)\n",
      "cool_down_2 vs cool_down : MannwhitneyuResult(statistic=535793500.5, pvalue=0.00021842518174398177)\n",
      "cool_down vs v1 : MannwhitneyuResult(statistic=1512553836.0, pvalue=1.6497563173040622e-15)\n"
     ]
    }
   ],
   "source": [
    "multi_u(nbu,'total_consumption','period')"
   ]
  },
  {
   "cell_type": "code",
   "execution_count": null,
   "id": "423e7437",
   "metadata": {},
   "outputs": [],
   "source": []
  },
  {
   "cell_type": "markdown",
   "id": "bdc901de",
   "metadata": {},
   "source": [
    "## Hồ Chí Minh"
   ]
  },
  {
   "cell_type": "code",
   "execution_count": 91,
   "id": "530f79c2",
   "metadata": {},
   "outputs": [
    {
     "name": "stdout",
     "output_type": "stream",
     "text": [
      "v1 vs cool_down : MannwhitneyuResult(statistic=2135060.0, pvalue=0.2236926058630161)\n",
      "cool_down vs v2 : MannwhitneyuResult(statistic=1987888.0, pvalue=0.025144011968917045)\n",
      "v2 vs cool_down_2 : MannwhitneyuResult(statistic=1078841.5, pvalue=3.911006634061904e-09)\n",
      "cool_down_2 vs v1 : MannwhitneyuResult(statistic=1112322.5, pvalue=4.211604782670189e-11)\n"
     ]
    }
   ],
   "source": [
    "multi_u(hcm_u[hcm_u['user_usage']==\"Casual\"],'total_consumption','period')"
   ]
  },
  {
   "cell_type": "code",
   "execution_count": 92,
   "id": "8e81492c",
   "metadata": {},
   "outputs": [
    {
     "data": {
      "image/png": "[encoded data removed]",
      "text/plain": [
       "<Figure size 1080x360 with 1 Axes>"
      ]
     },
     "metadata": {},
     "output_type": "display_data"
    }
   ],
   "source": [
    "ax = sns.boxplot(x=\"period\", y=\"consumption_w\", data=hcm_u[hcm_u['user_usage']==\"Casual\"].sort_values(by='period'),showfliers = False)"
   ]
  },
  {
   "cell_type": "code",
   "execution_count": 93,
   "id": "c6a2660a",
   "metadata": {},
   "outputs": [
    {
     "name": "stdout",
     "output_type": "stream",
     "text": [
      "v1 vs cool_down : MannwhitneyuResult(statistic=285966923.0, pvalue=3.6280097769637765e-14)\n",
      "cool_down vs v2 : MannwhitneyuResult(statistic=272820237.0, pvalue=3.281752900418533e-07)\n",
      "v2 vs cool_down_2 : MannwhitneyuResult(statistic=242630793.5, pvalue=0.00012499847736053776)\n",
      "cool_down_2 vs v1 : MannwhitneyuResult(statistic=251275866.5, pvalue=3.7043757642964715e-16)\n"
     ]
    }
   ],
   "source": [
    "multi_u(hcm_u[hcm_u['user_usage']!=\"Casual\"],'total_consumption','period')"
   ]
  },
  {
   "cell_type": "code",
   "execution_count": 94,
   "id": "9184a715",
   "metadata": {},
   "outputs": [
    {
     "data": {
      "image/png": "[encoded data removed]",
      "text/plain": [
       "<Figure size 1080x360 with 1 Axes>"
      ]
     },
     "metadata": {},
     "output_type": "display_data"
    }
   ],
   "source": [
    "ax = sns.boxplot(x=\"period\", y=\"consumption_w\", data=hcm_u[hcm_u['user_usage']!=\"Casual\"].sort_values(by='period'),showfliers = False)"
   ]
  },
  {
   "cell_type": "code",
   "execution_count": 95,
   "id": "5e383980",
   "metadata": {},
   "outputs": [
    {
     "data": {
      "text/html": [
       "<div>\n",
       "<style scoped>\n",
       "    .dataframe tbody tr th:only-of-type {\n",
       "        vertical-align: middle;\n",
       "    }\n",
       "\n",
       "    .dataframe tbody tr th {\n",
       "        vertical-align: top;\n",
       "    }\n",
       "\n",
       "    .dataframe thead th {\n",
       "        text-align: right;\n",
       "    }\n",
       "</style>\n",
       "<table border=\"1\" class=\"dataframe\">\n",
       "  <thead>\n",
       "    <tr style=\"text-align: right;\">\n",
       "      <th></th>\n",
       "      <th>count</th>\n",
       "      <th>mean</th>\n",
       "      <th>median</th>\n",
       "    </tr>\n",
       "    <tr>\n",
       "      <th>period</th>\n",
       "      <th></th>\n",
       "      <th></th>\n",
       "      <th></th>\n",
       "    </tr>\n",
       "  </thead>\n",
       "  <tbody>\n",
       "    <tr>\n",
       "      <th>cool_down</th>\n",
       "      <td>15080</td>\n",
       "      <td>280.256528</td>\n",
       "      <td>114.534</td>\n",
       "    </tr>\n",
       "    <tr>\n",
       "      <th>cool_down_2</th>\n",
       "      <td>13324</td>\n",
       "      <td>301.391421</td>\n",
       "      <td>114.534</td>\n",
       "    </tr>\n",
       "    <tr>\n",
       "      <th>v1</th>\n",
       "      <td>39561</td>\n",
       "      <td>262.147028</td>\n",
       "      <td>100.899</td>\n",
       "    </tr>\n",
       "    <tr>\n",
       "      <th>v2</th>\n",
       "      <td>37214</td>\n",
       "      <td>315.851435</td>\n",
       "      <td>117.876</td>\n",
       "    </tr>\n",
       "  </tbody>\n",
       "</table>\n",
       "</div>"
      ],
      "text/plain": [
       "             count        mean   median\n",
       "period                                 \n",
       "cool_down    15080  280.256528  114.534\n",
       "cool_down_2  13324  301.391421  114.534\n",
       "v1           39561  262.147028  100.899\n",
       "v2           37214  315.851435  117.876"
      ]
     },
     "execution_count": 95,
     "metadata": {},
     "output_type": "execute_result"
    }
   ],
   "source": [
    "cent_stat(hcm_u[hcm_u['user_usage']!=\"Casual\"],group = ['period'], measure = ['total_consumption'])"
   ]
  },
  {
   "cell_type": "code",
   "execution_count": 96,
   "id": "cae16121",
   "metadata": {},
   "outputs": [
    {
     "name": "stdout",
     "output_type": "stream",
     "text": [
      "v1 vs cool_down : MannwhitneyuResult(statistic=124800015.5, pvalue=1.0721002128312825e-05)\n",
      "cool_down vs v2 : MannwhitneyuResult(statistic=117395137.0, pvalue=4.122770684503043e-06)\n",
      "v2 vs cool_down_2 : MannwhitneyuResult(statistic=102245929.0, pvalue=0.1795090849796468)\n",
      "cool_down_2 vs v1 : MannwhitneyuResult(statistic=103487625.5, pvalue=1.6219252641204394e-13)\n"
     ]
    }
   ],
   "source": [
    "multi_u(hcm_u[hcm_u['old_boost_version']==\"7 day\"],'total_consumption','period')"
   ]
  },
  {
   "cell_type": "code",
   "execution_count": 97,
   "id": "4a40a7f8",
   "metadata": {},
   "outputs": [
    {
     "name": "stdout",
     "output_type": "stream",
     "text": [
      "v1 vs cool_down : MannwhitneyuResult(statistic=52597039.5, pvalue=5.223178569511973e-07)\n",
      "cool_down vs v2 : MannwhitneyuResult(statistic=50244058.0, pvalue=0.0010547171501245633)\n",
      "v2 vs cool_down_2 : MannwhitneyuResult(statistic=45121531.5, pvalue=0.3469832109721952)\n",
      "cool_down_2 vs v1 : MannwhitneyuResult(statistic=45094647.5, pvalue=4.155768708698224e-13)\n"
     ]
    }
   ],
   "source": [
    "multi_u(hcm_u[hcm_u['old_boost_version']!=\"7 day\"],'total_consumption','period')"
   ]
  },
  {
   "cell_type": "code",
   "execution_count": 98,
   "id": "87cdbd22",
   "metadata": {},
   "outputs": [
    {
     "data": {
      "text/html": [
       "<div>\n",
       "<style scoped>\n",
       "    .dataframe tbody tr th:only-of-type {\n",
       "        vertical-align: middle;\n",
       "    }\n",
       "\n",
       "    .dataframe tbody tr th {\n",
       "        vertical-align: top;\n",
       "    }\n",
       "\n",
       "    .dataframe thead th {\n",
       "        text-align: right;\n",
       "    }\n",
       "</style>\n",
       "<table border=\"1\" class=\"dataframe\">\n",
       "  <thead>\n",
       "    <tr style=\"text-align: right;\">\n",
       "      <th></th>\n",
       "      <th>count</th>\n",
       "      <th>mean</th>\n",
       "      <th>median</th>\n",
       "    </tr>\n",
       "    <tr>\n",
       "      <th>period</th>\n",
       "      <th></th>\n",
       "      <th></th>\n",
       "      <th></th>\n",
       "    </tr>\n",
       "  </thead>\n",
       "  <tbody>\n",
       "    <tr>\n",
       "      <th>cool_down</th>\n",
       "      <td>9952</td>\n",
       "      <td>273.872037</td>\n",
       "      <td>100.899</td>\n",
       "    </tr>\n",
       "    <tr>\n",
       "      <th>cool_down_2</th>\n",
       "      <td>8459</td>\n",
       "      <td>294.794543</td>\n",
       "      <td>111.807</td>\n",
       "    </tr>\n",
       "    <tr>\n",
       "      <th>v1</th>\n",
       "      <td>25827</td>\n",
       "      <td>258.762881</td>\n",
       "      <td>95.445</td>\n",
       "    </tr>\n",
       "    <tr>\n",
       "      <th>v2</th>\n",
       "      <td>24337</td>\n",
       "      <td>313.266032</td>\n",
       "      <td>111.807</td>\n",
       "    </tr>\n",
       "  </tbody>\n",
       "</table>\n",
       "</div>"
      ],
      "text/plain": [
       "             count        mean   median\n",
       "period                                 \n",
       "cool_down     9952  273.872037  100.899\n",
       "cool_down_2   8459  294.794543  111.807\n",
       "v1           25827  258.762881   95.445\n",
       "v2           24337  313.266032  111.807"
      ]
     },
     "execution_count": 98,
     "metadata": {},
     "output_type": "execute_result"
    }
   ],
   "source": [
    "cent_stat(hcm_u[hcm_u['old_boost_version']==\"7 day\"],group = ['period'], measure = ['total_consumption'])"
   ]
  },
  {
   "cell_type": "code",
   "execution_count": 99,
   "id": "61cda7b6",
   "metadata": {},
   "outputs": [],
   "source": [
    "# ax = sns.boxplot(x=\"period\", y=\"consumption_w\", data=hcm_u[hcm_u['user_usage']==\"Power\"].sort_values(by='period'),showfliers = False)"
   ]
  },
  {
   "cell_type": "markdown",
   "id": "65637443",
   "metadata": {},
   "source": [
    "## Hà Nội"
   ]
  },
  {
   "cell_type": "code",
   "execution_count": 100,
   "id": "8c3f5445",
   "metadata": {},
   "outputs": [
    {
     "data": {
      "image/png": "[encoded data removed]",
      "text/plain": [
       "<Figure size 1080x360 with 1 Axes>"
      ]
     },
     "metadata": {},
     "output_type": "display_data"
    }
   ],
   "source": [
    "ax = sns.boxplot(x=\"period\", y=\"consumption_w\", data=hn_u.sort_values(by='period'),showfliers = False)"
   ]
  },
  {
   "cell_type": "code",
   "execution_count": 101,
   "id": "177a4f70",
   "metadata": {},
   "outputs": [
    {
     "name": "stdout",
     "output_type": "stream",
     "text": [
      "v1 vs cool_down : MannwhitneyuResult(statistic=599433702.0, pvalue=2.758709360282567e-13)\n",
      "cool_down vs v2 : MannwhitneyuResult(statistic=523467799.0, pvalue=7.256635810022973e-06)\n",
      "v2 vs cool_down_2 : MannwhitneyuResult(statistic=454630831.5, pvalue=1.0668471225342818e-05)\n",
      "cool_down_2 vs v1 : MannwhitneyuResult(statistic=521576455.5, pvalue=2.0055248678831372e-11)\n"
     ]
    }
   ],
   "source": [
    "multi_u(hn_u,'total_consumption','period')"
   ]
  },
  {
   "cell_type": "code",
   "execution_count": 102,
   "id": "5b4ac6e6",
   "metadata": {},
   "outputs": [
    {
     "data": {
      "text/html": [
       "<div>\n",
       "<style scoped>\n",
       "    .dataframe tbody tr th:only-of-type {\n",
       "        vertical-align: middle;\n",
       "    }\n",
       "\n",
       "    .dataframe tbody tr th {\n",
       "        vertical-align: top;\n",
       "    }\n",
       "\n",
       "    .dataframe thead th {\n",
       "        text-align: right;\n",
       "    }\n",
       "</style>\n",
       "<table border=\"1\" class=\"dataframe\">\n",
       "  <thead>\n",
       "    <tr style=\"text-align: right;\">\n",
       "      <th></th>\n",
       "      <th>count</th>\n",
       "      <th>mean</th>\n",
       "      <th>median</th>\n",
       "    </tr>\n",
       "    <tr>\n",
       "      <th>period</th>\n",
       "      <th></th>\n",
       "      <th></th>\n",
       "      <th></th>\n",
       "    </tr>\n",
       "  </thead>\n",
       "  <tbody>\n",
       "    <tr>\n",
       "      <th>cool_down</th>\n",
       "      <td>20623</td>\n",
       "      <td>266.376079</td>\n",
       "      <td>103.626</td>\n",
       "    </tr>\n",
       "    <tr>\n",
       "      <th>cool_down_2</th>\n",
       "      <td>17923</td>\n",
       "      <td>281.017338</td>\n",
       "      <td>104.034</td>\n",
       "    </tr>\n",
       "    <tr>\n",
       "      <th>v1</th>\n",
       "      <td>60152</td>\n",
       "      <td>256.630030</td>\n",
       "      <td>95.445</td>\n",
       "    </tr>\n",
       "    <tr>\n",
       "      <th>v2</th>\n",
       "      <td>51833</td>\n",
       "      <td>294.031007</td>\n",
       "      <td>110.550</td>\n",
       "    </tr>\n",
       "  </tbody>\n",
       "</table>\n",
       "</div>"
      ],
      "text/plain": [
       "             count        mean   median\n",
       "period                                 \n",
       "cool_down    20623  266.376079  103.626\n",
       "cool_down_2  17923  281.017338  104.034\n",
       "v1           60152  256.630030   95.445\n",
       "v2           51833  294.031007  110.550"
      ]
     },
     "execution_count": 102,
     "metadata": {},
     "output_type": "execute_result"
    }
   ],
   "source": [
    "cent_stat(hn_u,group = ['period'], measure = ['total_consumption'])"
   ]
  },
  {
   "cell_type": "code",
   "execution_count": 103,
   "id": "c3c31a10",
   "metadata": {},
   "outputs": [
    {
     "data": {
      "image/png": "[encoded data removed]",
      "text/plain": [
       "<Figure size 1080x360 with 1 Axes>"
      ]
     },
     "metadata": {},
     "output_type": "display_data"
    }
   ],
   "source": [
    "ax = sns.boxplot(x=\"period\", y=\"consumption_w\", data=hn_u[hn_u['user_usage']!=\"Casual\"].sort_values(by='period'),showfliers = False)"
   ]
  },
  {
   "cell_type": "code",
   "execution_count": 104,
   "id": "2fb88d8e",
   "metadata": {},
   "outputs": [
    {
     "name": "stdout",
     "output_type": "stream",
     "text": [
      "v1 vs cool_down : MannwhitneyuResult(statistic=518875828.0, pvalue=4.632316138939143e-13)\n",
      "cool_down vs v2 : MannwhitneyuResult(statistic=445991487.5, pvalue=6.472264642800494e-07)\n",
      "v2 vs cool_down_2 : MannwhitneyuResult(statistic=385316068.0, pvalue=2.0970494376818093e-16)\n",
      "cool_down_2 vs v1 : MannwhitneyuResult(statistic=465812093.5, pvalue=0.0012004370936954563)\n"
     ]
    }
   ],
   "source": [
    "multi_u(hn_u[hn_u['user_usage']!=\"Casual\"],'total_consumption','period')"
   ]
  },
  {
   "cell_type": "code",
   "execution_count": 105,
   "id": "5243453d",
   "metadata": {},
   "outputs": [
    {
     "data": {
      "text/html": [
       "<div>\n",
       "<style scoped>\n",
       "    .dataframe tbody tr th:only-of-type {\n",
       "        vertical-align: middle;\n",
       "    }\n",
       "\n",
       "    .dataframe tbody tr th {\n",
       "        vertical-align: top;\n",
       "    }\n",
       "\n",
       "    .dataframe thead th {\n",
       "        text-align: right;\n",
       "    }\n",
       "</style>\n",
       "<table border=\"1\" class=\"dataframe\">\n",
       "  <thead>\n",
       "    <tr style=\"text-align: right;\">\n",
       "      <th></th>\n",
       "      <th>count</th>\n",
       "      <th>mean</th>\n",
       "      <th>median</th>\n",
       "    </tr>\n",
       "    <tr>\n",
       "      <th>period</th>\n",
       "      <th></th>\n",
       "      <th></th>\n",
       "      <th></th>\n",
       "    </tr>\n",
       "  </thead>\n",
       "  <tbody>\n",
       "    <tr>\n",
       "      <th>cool_down</th>\n",
       "      <td>19168</td>\n",
       "      <td>273.515809</td>\n",
       "      <td>114.534</td>\n",
       "    </tr>\n",
       "    <tr>\n",
       "      <th>cool_down_2</th>\n",
       "      <td>16874</td>\n",
       "      <td>284.410357</td>\n",
       "      <td>109.080</td>\n",
       "    </tr>\n",
       "    <tr>\n",
       "      <th>v1</th>\n",
       "      <td>56073</td>\n",
       "      <td>263.231691</td>\n",
       "      <td>105.945</td>\n",
       "    </tr>\n",
       "    <tr>\n",
       "      <th>v2</th>\n",
       "      <td>47674</td>\n",
       "      <td>302.929132</td>\n",
       "      <td>117.261</td>\n",
       "    </tr>\n",
       "  </tbody>\n",
       "</table>\n",
       "</div>"
      ],
      "text/plain": [
       "             count        mean   median\n",
       "period                                 \n",
       "cool_down    19168  273.515809  114.534\n",
       "cool_down_2  16874  284.410357  109.080\n",
       "v1           56073  263.231691  105.945\n",
       "v2           47674  302.929132  117.261"
      ]
     },
     "execution_count": 105,
     "metadata": {},
     "output_type": "execute_result"
    }
   ],
   "source": [
    "cent_stat(hn_u[hn_u['user_usage']!=\"Casual\"],group = ['period'], measure = ['total_consumption'])"
   ]
  },
  {
   "cell_type": "code",
   "execution_count": 106,
   "id": "9e419c34",
   "metadata": {},
   "outputs": [
    {
     "data": {
      "text/html": [
       "<div>\n",
       "<style scoped>\n",
       "    .dataframe tbody tr th:only-of-type {\n",
       "        vertical-align: middle;\n",
       "    }\n",
       "\n",
       "    .dataframe tbody tr th {\n",
       "        vertical-align: top;\n",
       "    }\n",
       "\n",
       "    .dataframe thead th {\n",
       "        text-align: right;\n",
       "    }\n",
       "</style>\n",
       "<table border=\"1\" class=\"dataframe\">\n",
       "  <thead>\n",
       "    <tr style=\"text-align: right;\">\n",
       "      <th></th>\n",
       "      <th>count</th>\n",
       "      <th>mean</th>\n",
       "      <th>median</th>\n",
       "    </tr>\n",
       "    <tr>\n",
       "      <th>period</th>\n",
       "      <th></th>\n",
       "      <th></th>\n",
       "      <th></th>\n",
       "    </tr>\n",
       "  </thead>\n",
       "  <tbody>\n",
       "    <tr>\n",
       "      <th>cool_down</th>\n",
       "      <td>12398</td>\n",
       "      <td>261.079196</td>\n",
       "      <td>103.626</td>\n",
       "    </tr>\n",
       "    <tr>\n",
       "      <th>cool_down_2</th>\n",
       "      <td>10677</td>\n",
       "      <td>276.453480</td>\n",
       "      <td>109.080</td>\n",
       "    </tr>\n",
       "    <tr>\n",
       "      <th>v1</th>\n",
       "      <td>36380</td>\n",
       "      <td>254.358162</td>\n",
       "      <td>95.445</td>\n",
       "    </tr>\n",
       "    <tr>\n",
       "      <th>v2</th>\n",
       "      <td>31133</td>\n",
       "      <td>288.558869</td>\n",
       "      <td>111.672</td>\n",
       "    </tr>\n",
       "  </tbody>\n",
       "</table>\n",
       "</div>"
      ],
      "text/plain": [
       "             count        mean   median\n",
       "period                                 \n",
       "cool_down    12398  261.079196  103.626\n",
       "cool_down_2  10677  276.453480  109.080\n",
       "v1           36380  254.358162   95.445\n",
       "v2           31133  288.558869  111.672"
      ]
     },
     "execution_count": 106,
     "metadata": {},
     "output_type": "execute_result"
    }
   ],
   "source": [
    "cent_stat(hn_u[hn_u['old_boost_version']==\"7 day\"],group = ['period'], measure = ['total_consumption'])"
   ]
  },
  {
   "cell_type": "code",
   "execution_count": 107,
   "id": "a0a166e8",
   "metadata": {},
   "outputs": [],
   "source": [
    "# cent_stat(hn_u[hn_u['old_boost_version']!=\"7 day\"],group = ['period'], measure = ['total_consumption'])"
   ]
  },
  {
   "cell_type": "code",
   "execution_count": 108,
   "id": "a0ea06d4",
   "metadata": {},
   "outputs": [
    {
     "data": {
      "image/png": "[encoded data removed]",
      "text/plain": [
       "<Figure size 1080x360 with 1 Axes>"
      ]
     },
     "metadata": {},
     "output_type": "display_data"
    }
   ],
   "source": [
    "ax = sns.boxplot(x=\"period\", y=\"consumption_w\", data=hn_u[hn_u['user_usage']==\"Casual\"].sort_values(by='period'),showfliers = False)"
   ]
  },
  {
   "cell_type": "code",
   "execution_count": 109,
   "id": "84669a87",
   "metadata": {},
   "outputs": [
    {
     "name": "stdout",
     "output_type": "stream",
     "text": [
      "v1 vs cool_down : MannwhitneyuResult(statistic=2811498.0, pvalue=0.0011793268395741642)\n",
      "cool_down vs v2 : MannwhitneyuResult(statistic=2902488.0, pvalue=0.009299650583664212)\n",
      "v2 vs cool_down_2 : MannwhitneyuResult(statistic=1769181.0, pvalue=4.47561881841202e-22)\n",
      "cool_down_2 vs v1 : MannwhitneyuResult(statistic=1550622.0, pvalue=1.0722031429094368e-44)\n"
     ]
    }
   ],
   "source": [
    "multi_u(hn_u[hn_u['user_usage']==\"Casual\"],'total_consumption','period')"
   ]
  },
  {
   "cell_type": "code",
   "execution_count": 110,
   "id": "89516ed0",
   "metadata": {},
   "outputs": [],
   "source": [
    "# density_plot(hn_u)"
   ]
  },
  {
   "cell_type": "markdown",
   "id": "42481d0e",
   "metadata": {},
   "source": [
    "## Bình Dương"
   ]
  },
  {
   "cell_type": "code",
   "execution_count": 111,
   "id": "891972e6",
   "metadata": {},
   "outputs": [
    {
     "data": {
      "image/png": "[encoded data removed]",
      "text/plain": [
       "<Figure size 1080x360 with 1 Axes>"
      ]
     },
     "metadata": {},
     "output_type": "display_data"
    }
   ],
   "source": [
    "ax = sns.boxplot(x=\"period\", y=\"consumption_w\", data=bd_u[bd_u['user_usage']!=\"Casual\"].sort_values(by='period'),showfliers = False)"
   ]
  },
  {
   "cell_type": "code",
   "execution_count": 112,
   "id": "10538f69",
   "metadata": {},
   "outputs": [
    {
     "name": "stdout",
     "output_type": "stream",
     "text": [
      "v1 vs cool_down : MannwhitneyuResult(statistic=15128844.5, pvalue=1.3781015088608359e-05)\n",
      "cool_down vs v2 : MannwhitneyuResult(statistic=16495888.0, pvalue=0.0028177487145526967)\n",
      "v2 vs cool_down_2 : MannwhitneyuResult(statistic=12790556.5, pvalue=2.0974751805103985e-07)\n",
      "cool_down_2 vs v1 : MannwhitneyuResult(statistic=12495702.0, pvalue=0.08220132221603166)\n"
     ]
    }
   ],
   "source": [
    "multi_u(bd_u[bd_u['user_usage']!=\"Casual\"],'total_consumption','period')"
   ]
  },
  {
   "cell_type": "code",
   "execution_count": 113,
   "id": "e3ea9fee",
   "metadata": {},
   "outputs": [
    {
     "data": {
      "text/html": [
       "<div>\n",
       "<style scoped>\n",
       "    .dataframe tbody tr th:only-of-type {\n",
       "        vertical-align: middle;\n",
       "    }\n",
       "\n",
       "    .dataframe tbody tr th {\n",
       "        vertical-align: top;\n",
       "    }\n",
       "\n",
       "    .dataframe thead th {\n",
       "        text-align: right;\n",
       "    }\n",
       "</style>\n",
       "<table border=\"1\" class=\"dataframe\">\n",
       "  <thead>\n",
       "    <tr style=\"text-align: right;\">\n",
       "      <th></th>\n",
       "      <th>count</th>\n",
       "      <th>mean</th>\n",
       "      <th>median</th>\n",
       "    </tr>\n",
       "    <tr>\n",
       "      <th>period</th>\n",
       "      <th></th>\n",
       "      <th></th>\n",
       "      <th></th>\n",
       "    </tr>\n",
       "  </thead>\n",
       "  <tbody>\n",
       "    <tr>\n",
       "      <th>cool_down</th>\n",
       "      <td>4099</td>\n",
       "      <td>161.933728</td>\n",
       "      <td>57.267</td>\n",
       "    </tr>\n",
       "    <tr>\n",
       "      <th>cool_down_2</th>\n",
       "      <td>3233</td>\n",
       "      <td>163.979717</td>\n",
       "      <td>57.267</td>\n",
       "    </tr>\n",
       "    <tr>\n",
       "      <th>v1</th>\n",
       "      <td>9192</td>\n",
       "      <td>152.293659</td>\n",
       "      <td>54.540</td>\n",
       "    </tr>\n",
       "    <tr>\n",
       "      <th>v2</th>\n",
       "      <td>9910</td>\n",
       "      <td>179.549349</td>\n",
       "      <td>57.267</td>\n",
       "    </tr>\n",
       "  </tbody>\n",
       "</table>\n",
       "</div>"
      ],
      "text/plain": [
       "             count        mean  median\n",
       "period                                \n",
       "cool_down     4099  161.933728  57.267\n",
       "cool_down_2   3233  163.979717  57.267\n",
       "v1            9192  152.293659  54.540\n",
       "v2            9910  179.549349  57.267"
      ]
     },
     "execution_count": 113,
     "metadata": {},
     "output_type": "execute_result"
    }
   ],
   "source": [
    "cent_stat(bd_u,group = ['period'], measure = ['total_consumption'])"
   ]
  },
  {
   "cell_type": "code",
   "execution_count": 114,
   "id": "4ce537a6",
   "metadata": {},
   "outputs": [
    {
     "name": "stdout",
     "output_type": "stream",
     "text": [
      "v1 vs cool_down : MannwhitneyuResult(statistic=123563.0, pvalue=0.2757757280363463)\n",
      "cool_down vs v2 : MannwhitneyuResult(statistic=131097.0, pvalue=0.0039316341420997745)\n",
      "v2 vs cool_down_2 : MannwhitneyuResult(statistic=82399.0, pvalue=0.0006156694054407819)\n",
      "cool_down_2 vs v1 : MannwhitneyuResult(statistic=65726.0, pvalue=4.752323375316669e-07)\n"
     ]
    }
   ],
   "source": [
    "multi_u(bd_u[bd_u['user_usage']==\"Casual\"],'total_consumption','period')"
   ]
  },
  {
   "cell_type": "markdown",
   "id": "d2569b08",
   "metadata": {},
   "source": [
    "### Vũng Tàu"
   ]
  },
  {
   "cell_type": "code",
   "execution_count": 115,
   "id": "a9f7d988",
   "metadata": {},
   "outputs": [
    {
     "data": {
      "image/png": "[encoded data removed]",
      "text/plain": [
       "<Figure size 1080x360 with 1 Axes>"
      ]
     },
     "metadata": {},
     "output_type": "display_data"
    }
   ],
   "source": [
    "ax = sns.boxplot(x=\"period\", y=\"consumption_w\", data=vt_u.sort_values(by='period'),showfliers = False)"
   ]
  },
  {
   "cell_type": "code",
   "execution_count": 116,
   "id": "d5095317",
   "metadata": {},
   "outputs": [
    {
     "name": "stdout",
     "output_type": "stream",
     "text": [
      "v1 vs cool_down : MannwhitneyuResult(statistic=5057532.0, pvalue=0.00011884005302116203)\n",
      "cool_down vs v2 : MannwhitneyuResult(statistic=5170510.0, pvalue=0.11521034828152638)\n",
      "v2 vs cool_down_2 : MannwhitneyuResult(statistic=4354351.0, pvalue=1.1077513186803619e-05)\n",
      "cool_down_2 vs v1 : MannwhitneyuResult(statistic=4709922.5, pvalue=0.3259402673757793)\n"
     ]
    }
   ],
   "source": [
    "multi_u(vt_u[vt_u['user_usage']!=\"Casual\"],'consumption_w','period')"
   ]
  },
  {
   "cell_type": "code",
   "execution_count": 117,
   "id": "38bb1950",
   "metadata": {},
   "outputs": [
    {
     "name": "stdout",
     "output_type": "stream",
     "text": [
      "v1 vs cool_down : MannwhitneyuResult(statistic=42285.0, pvalue=0.47783490422684377)\n",
      "cool_down vs v2 : MannwhitneyuResult(statistic=44216.5, pvalue=0.02953320821318997)\n",
      "v2 vs cool_down_2 : MannwhitneyuResult(statistic=29578.5, pvalue=0.02900450281250372)\n",
      "cool_down_2 vs v1 : MannwhitneyuResult(statistic=23316.0, pvalue=0.0003222087640581775)\n"
     ]
    }
   ],
   "source": [
    "multi_u(vt_u[vt_u['user_usage']==\"Casual\"],'consumption_w','period')"
   ]
  },
  {
   "cell_type": "code",
   "execution_count": 118,
   "id": "86aaa78f",
   "metadata": {},
   "outputs": [
    {
     "data": {
      "image/png": "[encoded data removed]",
      "text/plain": [
       "<Figure size 1080x360 with 1 Axes>"
      ]
     },
     "metadata": {},
     "output_type": "display_data"
    }
   ],
   "source": [
    "density_plot(vt_u)"
   ]
  },
  {
   "cell_type": "markdown",
   "id": "94a553e2",
   "metadata": {},
   "source": [
    "## Đà Nẵng"
   ]
  },
  {
   "cell_type": "code",
   "execution_count": 119,
   "id": "8e4addae",
   "metadata": {},
   "outputs": [
    {
     "name": "stdout",
     "output_type": "stream",
     "text": [
      "v1 vs cool_down : MannwhitneyuResult(statistic=6075485.5, pvalue=0.09222627691632806)\n",
      "cool_down vs v2 : MannwhitneyuResult(statistic=5554025.0, pvalue=0.11572926842220854)\n",
      "v2 vs cool_down_2 : MannwhitneyuResult(statistic=5353663.0, pvalue=0.3103601505573232)\n",
      "cool_down_2 vs v1 : MannwhitneyuResult(statistic=5648665.0, pvalue=0.001449629579133562)\n"
     ]
    }
   ],
   "source": [
    "multi_u(dna_u,'consumption_w','period')"
   ]
  },
  {
   "cell_type": "code",
   "execution_count": 120,
   "id": "4d9042c2",
   "metadata": {},
   "outputs": [
    {
     "data": {
      "image/png": "[encoded data removed]",
      "text/plain": [
       "<Figure size 1080x360 with 1 Axes>"
      ]
     },
     "metadata": {},
     "output_type": "display_data"
    }
   ],
   "source": [
    "ax = sns.boxplot(x=\"period\", y=\"consumption_w\", data=dna_u.sort_values(by='period'),showfliers = False)"
   ]
  },
  {
   "cell_type": "code",
   "execution_count": 121,
   "id": "4a0b8f41",
   "metadata": {},
   "outputs": [
    {
     "name": "stdout",
     "output_type": "stream",
     "text": [
      "v1 vs cool_down : MannwhitneyuResult(statistic=5438200.5, pvalue=0.04652138992027626)\n",
      "cool_down vs v2 : MannwhitneyuResult(statistic=4890880.5, pvalue=0.06603988381699309)\n",
      "v2 vs cool_down_2 : MannwhitneyuResult(statistic=4805629.5, pvalue=0.373183550360904)\n",
      "cool_down_2 vs v1 : MannwhitneyuResult(statistic=5154598.5, pvalue=0.002683796448328776)\n"
     ]
    }
   ],
   "source": [
    "multi_u(dna_u[dna_u['user_usage']!=\"Casual\"],'consumption_w','period')"
   ]
  },
  {
   "cell_type": "code",
   "execution_count": 122,
   "id": "0f6d1d54",
   "metadata": {},
   "outputs": [
    {
     "data": {
      "text/html": [
       "<div>\n",
       "<style scoped>\n",
       "    .dataframe tbody tr th:only-of-type {\n",
       "        vertical-align: middle;\n",
       "    }\n",
       "\n",
       "    .dataframe tbody tr th {\n",
       "        vertical-align: top;\n",
       "    }\n",
       "\n",
       "    .dataframe thead th {\n",
       "        text-align: right;\n",
       "    }\n",
       "</style>\n",
       "<table border=\"1\" class=\"dataframe\">\n",
       "  <thead>\n",
       "    <tr style=\"text-align: right;\">\n",
       "      <th></th>\n",
       "      <th>median</th>\n",
       "      <th>q25</th>\n",
       "      <th>q75</th>\n",
       "      <th>q90</th>\n",
       "      <th>q10</th>\n",
       "    </tr>\n",
       "    <tr>\n",
       "      <th>period</th>\n",
       "      <th></th>\n",
       "      <th></th>\n",
       "      <th></th>\n",
       "      <th></th>\n",
       "      <th></th>\n",
       "    </tr>\n",
       "  </thead>\n",
       "  <tbody>\n",
       "    <tr>\n",
       "      <th>cool_down</th>\n",
       "      <td>72.540</td>\n",
       "      <td>166.34700</td>\n",
       "      <td>27.270</td>\n",
       "      <td>404.3858</td>\n",
       "      <td>19.089</td>\n",
       "    </tr>\n",
       "    <tr>\n",
       "      <th>cool_down_2</th>\n",
       "      <td>76.356</td>\n",
       "      <td>181.34925</td>\n",
       "      <td>34.742</td>\n",
       "      <td>458.1360</td>\n",
       "      <td>19.089</td>\n",
       "    </tr>\n",
       "    <tr>\n",
       "      <th>v1</th>\n",
       "      <td>62.721</td>\n",
       "      <td>159.66900</td>\n",
       "      <td>27.270</td>\n",
       "      <td>369.0890</td>\n",
       "      <td>19.089</td>\n",
       "    </tr>\n",
       "    <tr>\n",
       "      <th>v2</th>\n",
       "      <td>76.356</td>\n",
       "      <td>171.80100</td>\n",
       "      <td>29.997</td>\n",
       "      <td>445.4520</td>\n",
       "      <td>19.089</td>\n",
       "    </tr>\n",
       "  </tbody>\n",
       "</table>\n",
       "</div>"
      ],
      "text/plain": [
       "             median        q25     q75       q90     q10\n",
       "period                                                  \n",
       "cool_down    72.540  166.34700  27.270  404.3858  19.089\n",
       "cool_down_2  76.356  181.34925  34.742  458.1360  19.089\n",
       "v1           62.721  159.66900  27.270  369.0890  19.089\n",
       "v2           76.356  171.80100  29.997  445.4520  19.089"
      ]
     },
     "execution_count": 122,
     "metadata": {},
     "output_type": "execute_result"
    }
   ],
   "source": [
    "stat(dna_u,group = ['period'], measure = ['total_consumption'])"
   ]
  },
  {
   "cell_type": "markdown",
   "id": "b95c1d9e",
   "metadata": {},
   "source": [
    "## Đồng Nai"
   ]
  },
  {
   "cell_type": "code",
   "execution_count": 123,
   "id": "2ecfd9a4",
   "metadata": {},
   "outputs": [
    {
     "name": "stdout",
     "output_type": "stream",
     "text": [
      "v1 vs cool_down : MannwhitneyuResult(statistic=14355228.0, pvalue=0.49793301285112623)\n",
      "cool_down vs v2 : MannwhitneyuResult(statistic=14544210.0, pvalue=0.0015387707992710734)\n",
      "v2 vs cool_down_2 : MannwhitneyuResult(statistic=12967169.0, pvalue=0.07473374609344115)\n",
      "cool_down_2 vs v1 : MannwhitneyuResult(statistic=12373531.0, pvalue=0.08738928903827625)\n"
     ]
    }
   ],
   "source": [
    "multi_u(dn_u,'total_consumption','period')"
   ]
  },
  {
   "cell_type": "code",
   "execution_count": 124,
   "id": "60b4a565",
   "metadata": {},
   "outputs": [
    {
     "data": {
      "image/png": "[encoded data removed]",
      "text/plain": [
       "<Figure size 1080x360 with 1 Axes>"
      ]
     },
     "metadata": {},
     "output_type": "display_data"
    }
   ],
   "source": [
    "ax = sns.boxplot(x=\"period\", y=\"consumption_w\", data=dna_u.sort_values(by='period'),showfliers = False)"
   ]
  },
  {
   "cell_type": "code",
   "execution_count": 125,
   "id": "4a063335",
   "metadata": {},
   "outputs": [
    {
     "data": {
      "text/html": [
       "<div>\n",
       "<style scoped>\n",
       "    .dataframe tbody tr th:only-of-type {\n",
       "        vertical-align: middle;\n",
       "    }\n",
       "\n",
       "    .dataframe tbody tr th {\n",
       "        vertical-align: top;\n",
       "    }\n",
       "\n",
       "    .dataframe thead th {\n",
       "        text-align: right;\n",
       "    }\n",
       "</style>\n",
       "<table border=\"1\" class=\"dataframe\">\n",
       "  <thead>\n",
       "    <tr style=\"text-align: right;\">\n",
       "      <th></th>\n",
       "      <th>count</th>\n",
       "      <th>mean</th>\n",
       "      <th>median</th>\n",
       "    </tr>\n",
       "    <tr>\n",
       "      <th>period</th>\n",
       "      <th></th>\n",
       "      <th></th>\n",
       "      <th></th>\n",
       "    </tr>\n",
       "  </thead>\n",
       "  <tbody>\n",
       "    <tr>\n",
       "      <th>cool_down</th>\n",
       "      <td>3479</td>\n",
       "      <td>154.877552</td>\n",
       "      <td>54.540</td>\n",
       "    </tr>\n",
       "    <tr>\n",
       "      <th>cool_down_2</th>\n",
       "      <td>3049</td>\n",
       "      <td>162.539920</td>\n",
       "      <td>57.267</td>\n",
       "    </tr>\n",
       "    <tr>\n",
       "      <th>v1</th>\n",
       "      <td>8253</td>\n",
       "      <td>164.824214</td>\n",
       "      <td>57.267</td>\n",
       "    </tr>\n",
       "    <tr>\n",
       "      <th>v2</th>\n",
       "      <td>8657</td>\n",
       "      <td>177.493612</td>\n",
       "      <td>57.267</td>\n",
       "    </tr>\n",
       "  </tbody>\n",
       "</table>\n",
       "</div>"
      ],
      "text/plain": [
       "             count        mean  median\n",
       "period                                \n",
       "cool_down     3479  154.877552  54.540\n",
       "cool_down_2   3049  162.539920  57.267\n",
       "v1            8253  164.824214  57.267\n",
       "v2            8657  177.493612  57.267"
      ]
     },
     "execution_count": 125,
     "metadata": {},
     "output_type": "execute_result"
    }
   ],
   "source": [
    "cent_stat(dn_u,group = ['period'], measure = ['total_consumption'])"
   ]
  },
  {
   "cell_type": "markdown",
   "id": "8ba0d5d9",
   "metadata": {},
   "source": [
    "## Hải Phòng"
   ]
  },
  {
   "cell_type": "code",
   "execution_count": 126,
   "id": "8befd5ca",
   "metadata": {},
   "outputs": [
    {
     "name": "stdout",
     "output_type": "stream",
     "text": [
      "v1 vs cool_down : MannwhitneyuResult(statistic=2747845.0, pvalue=0.014859109120434092)\n",
      "cool_down vs v2 : MannwhitneyuResult(statistic=2534947.0, pvalue=0.3314265258210102)\n",
      "v2 vs cool_down_2 : MannwhitneyuResult(statistic=2397183.0, pvalue=0.03375202876846982)\n",
      "cool_down_2 vs v1 : MannwhitneyuResult(statistic=2769534.0, pvalue=0.4630740281123313)\n"
     ]
    }
   ],
   "source": [
    "multi_u(hp_u,'total_consumption','period')"
   ]
  },
  {
   "cell_type": "code",
   "execution_count": 127,
   "id": "10ba5e13",
   "metadata": {},
   "outputs": [
    {
     "data": {
      "image/png": "[encoded data removed]",
      "text/plain": [
       "<Figure size 1080x360 with 1 Axes>"
      ]
     },
     "metadata": {},
     "output_type": "display_data"
    }
   ],
   "source": [
    "ax = sns.boxplot(x=\"period\", y=\"consumption_w\", data=hp_u.sort_values(by='period'),showfliers = False)"
   ]
  },
  {
   "cell_type": "markdown",
   "id": "3eb9710d",
   "metadata": {},
   "source": [
    "## Hòa Bình"
   ]
  },
  {
   "cell_type": "code",
   "execution_count": 128,
   "id": "e1a10070",
   "metadata": {},
   "outputs": [
    {
     "name": "stdout",
     "output_type": "stream",
     "text": [
      "v1 vs cool_down : MannwhitneyuResult(statistic=805216.5, pvalue=0.0029860836890224134)\n",
      "cool_down vs v2 : MannwhitneyuResult(statistic=993759.5, pvalue=0.045355023038349485)\n",
      "v2 vs cool_down_2 : MannwhitneyuResult(statistic=1138677.0, pvalue=0.45386899813848747)\n",
      "cool_down_2 vs v1 : MannwhitneyuResult(statistic=848829.5, pvalue=1.467160120635992e-06)\n"
     ]
    }
   ],
   "source": [
    "multi_u(hb_u,'consumption_w','period')"
   ]
  },
  {
   "cell_type": "code",
   "execution_count": 129,
   "id": "c86d5279",
   "metadata": {},
   "outputs": [
    {
     "data": {
      "image/png": "[encoded data removed]",
      "text/plain": [
       "<Figure size 1080x360 with 1 Axes>"
      ]
     },
     "metadata": {},
     "output_type": "display_data"
    }
   ],
   "source": [
    "ax = sns.boxplot(x=\"period\", y=\"consumption_w\", data=hb_u.sort_values(by='period'),showfliers = False)"
   ]
  },
  {
   "cell_type": "code",
   "execution_count": 130,
   "id": "8b5417b0",
   "metadata": {},
   "outputs": [
    {
     "data": {
      "text/html": [
       "<div>\n",
       "<style scoped>\n",
       "    .dataframe tbody tr th:only-of-type {\n",
       "        vertical-align: middle;\n",
       "    }\n",
       "\n",
       "    .dataframe tbody tr th {\n",
       "        vertical-align: top;\n",
       "    }\n",
       "\n",
       "    .dataframe thead th {\n",
       "        text-align: right;\n",
       "    }\n",
       "</style>\n",
       "<table border=\"1\" class=\"dataframe\">\n",
       "  <thead>\n",
       "    <tr style=\"text-align: right;\">\n",
       "      <th></th>\n",
       "      <th>count</th>\n",
       "      <th>mean</th>\n",
       "      <th>std</th>\n",
       "      <th>min</th>\n",
       "      <th>25%</th>\n",
       "      <th>50%</th>\n",
       "      <th>75%</th>\n",
       "      <th>max</th>\n",
       "    </tr>\n",
       "    <tr>\n",
       "      <th>period</th>\n",
       "      <th></th>\n",
       "      <th></th>\n",
       "      <th></th>\n",
       "      <th></th>\n",
       "      <th></th>\n",
       "      <th></th>\n",
       "      <th></th>\n",
       "      <th></th>\n",
       "    </tr>\n",
       "  </thead>\n",
       "  <tbody>\n",
       "    <tr>\n",
       "      <th>cool_down</th>\n",
       "      <td>810.0</td>\n",
       "      <td>199.000683</td>\n",
       "      <td>351.198623</td>\n",
       "      <td>16.226</td>\n",
       "      <td>27.270</td>\n",
       "      <td>59.994</td>\n",
       "      <td>171.8010</td>\n",
       "      <td>2118.488</td>\n",
       "    </tr>\n",
       "    <tr>\n",
       "      <th>cool_down_2</th>\n",
       "      <td>894.0</td>\n",
       "      <td>253.036391</td>\n",
       "      <td>437.301912</td>\n",
       "      <td>16.417</td>\n",
       "      <td>27.270</td>\n",
       "      <td>57.267</td>\n",
       "      <td>278.5035</td>\n",
       "      <td>2118.488</td>\n",
       "    </tr>\n",
       "    <tr>\n",
       "      <th>v1</th>\n",
       "      <td>2127.0</td>\n",
       "      <td>170.633604</td>\n",
       "      <td>323.570101</td>\n",
       "      <td>0.000</td>\n",
       "      <td>21.816</td>\n",
       "      <td>54.540</td>\n",
       "      <td>152.7120</td>\n",
       "      <td>2118.488</td>\n",
       "    </tr>\n",
       "    <tr>\n",
       "      <th>v2</th>\n",
       "      <td>2554.0</td>\n",
       "      <td>229.600229</td>\n",
       "      <td>398.787476</td>\n",
       "      <td>14.180</td>\n",
       "      <td>27.270</td>\n",
       "      <td>67.956</td>\n",
       "      <td>209.9790</td>\n",
       "      <td>2118.488</td>\n",
       "    </tr>\n",
       "  </tbody>\n",
       "</table>\n",
       "</div>"
      ],
      "text/plain": [
       "              count        mean         std     min     25%     50%       75%  \\\n",
       "period                                                                          \n",
       "cool_down     810.0  199.000683  351.198623  16.226  27.270  59.994  171.8010   \n",
       "cool_down_2   894.0  253.036391  437.301912  16.417  27.270  57.267  278.5035   \n",
       "v1           2127.0  170.633604  323.570101   0.000  21.816  54.540  152.7120   \n",
       "v2           2554.0  229.600229  398.787476  14.180  27.270  67.956  209.9790   \n",
       "\n",
       "                  max  \n",
       "period                 \n",
       "cool_down    2118.488  \n",
       "cool_down_2  2118.488  \n",
       "v1           2118.488  \n",
       "v2           2118.488  "
      ]
     },
     "execution_count": 130,
     "metadata": {},
     "output_type": "execute_result"
    }
   ],
   "source": [
    "hb_u.groupby('period')['consumption_w'].describe()"
   ]
  },
  {
   "cell_type": "code",
   "execution_count": 131,
   "id": "efc745be",
   "metadata": {},
   "outputs": [
    {
     "data": {
      "image/png": "[encoded data removed]",
      "text/plain": [
       "<Figure size 1080x504 with 1 Axes>"
      ]
     },
     "metadata": {},
     "output_type": "display_data"
    }
   ],
   "source": [
    "x1 = dens(hb_u['consumption_w'][hb_u['period']=='v1'], bin_range = 100)\n",
    "xc = dens(hb_u['consumption_w'][hb_u['period']=='cool_down'], bin_range = 100)\n",
    "x2 = dens(hb_u['consumption_w'][hb_u['period']=='v2'], bin_range = 100)\n",
    "\n",
    "l = max(len(x1),len(x2),len(xc))\n",
    "y = list(range(1, l+1))\n",
    "\n",
    "sns.set(rc={'figure.figsize':(15,7)})\n",
    "plt.plot(y, x1, label = 'v1')\n",
    "plt.plot(y, x2, label = 'v2')\n",
    "plt.plot(y, xc, label = 'cool_down')\n",
    "plt.legend()\n",
    "plt.show()"
   ]
  },
  {
   "cell_type": "code",
   "execution_count": null,
   "id": "cf67832c",
   "metadata": {},
   "outputs": [],
   "source": []
  }
 ],
 "metadata": {
  "kernelspec": {
   "display_name": "Python 3",
   "language": "python",
   "name": "python3"
  },
  "language_info": {
   "codemirror_mode": {
    "name": "ipython",
    "version": 3
   },
   "file_extension": ".py",
   "mimetype": "text/x-python",
   "name": "python",
   "nbconvert_exporter": "python",
   "pygments_lexer": "ipython3",
   "version": "3.8.10"
  }
 },
 "nbformat": 4,
 "nbformat_minor": 5
}
