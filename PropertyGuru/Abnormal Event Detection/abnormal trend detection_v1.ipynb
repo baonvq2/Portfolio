{
 "cells": [
  {
   "cell_type": "code",
   "execution_count": 1,
   "id": "77fbcadb",
   "metadata": {},
   "outputs": [],
   "source": [
    "import pandas as pd\n",
    "import os\n",
    "os.environ['GOOGLE_APPLICATION_CREDENTIALS'] = '/root/jupyter/SAs/batdongsan-datalake-v0-d1b3b2296e65.json'\n",
    "from google.cloud import bigquery\n",
    "bigquery_client = bigquery.Client(project='batdongsan-datalake-v0')\n",
    "import numpy as np\n",
    "pd.set_option('mode.chained_assignment', None)\n",
    "import datetime as dt"
   ]
  },
  {
   "cell_type": "code",
   "execution_count": null,
   "id": "5cc043e6",
   "metadata": {},
   "outputs": [],
   "source": [
    "# We can read csv from the available data - which is extracted from the SQL query below\n",
    "#data = pd.read_csv('abnormal trend_data raw.csv')"
   ]
  },
  {
   "cell_type": "code",
   "execution_count": 57,
   "id": "9800ec6f",
   "metadata": {},
   "outputs": [],
   "source": [
    "query = \"\"\"\n",
    "SELECT * FROM `batdongsan-datalake-v0.data_validation.event_summary_daily`\n",
    "WHERE visit_date >= date_add(current_date(), interval -100 day)\n",
    "--and visit_date <= '2022-07-18'\n",
    "AND event_category NOT IN ('Outbound traffic','Core Web Vitals','Javascript error','Logging','Enhanced Ecommerce','Version','','Social Share')\n",
    "AND event_category is not null\n",
    "\"\"\""
   ]
  },
  {
   "cell_type": "code",
   "execution_count": 58,
   "id": "6f37299b",
   "metadata": {},
   "outputs": [],
   "source": [
    "job = bigquery_client.query(query)\n",
    "df0 = job.to_dataframe()"
   ]
  },
  {
   "cell_type": "code",
   "execution_count": 59,
   "id": "7dbf6758",
   "metadata": {},
   "outputs": [],
   "source": [
    "df = df0[(df0['visit_date']<= dt.date(2022,7,26))]"
   ]
  },
  {
   "cell_type": "code",
   "execution_count": 60,
   "id": "e721e12c",
   "metadata": {},
   "outputs": [
    {
     "data": {
      "text/html": [
       "<div>\n",
       "<style scoped>\n",
       "    .dataframe tbody tr th:only-of-type {\n",
       "        vertical-align: middle;\n",
       "    }\n",
       "\n",
       "    .dataframe tbody tr th {\n",
       "        vertical-align: top;\n",
       "    }\n",
       "\n",
       "    .dataframe thead th {\n",
       "        text-align: right;\n",
       "    }\n",
       "</style>\n",
       "<table border=\"1\" class=\"dataframe\">\n",
       "  <thead>\n",
       "    <tr style=\"text-align: right;\">\n",
       "      <th></th>\n",
       "      <th>visit_date</th>\n",
       "      <th>device_category</th>\n",
       "      <th>page_type</th>\n",
       "      <th>event_category</th>\n",
       "      <th>event_action</th>\n",
       "      <th>count_events</th>\n",
       "      <th>holiday</th>\n",
       "      <th>weekend</th>\n",
       "      <th>day_off</th>\n",
       "    </tr>\n",
       "  </thead>\n",
       "  <tbody>\n",
       "    <tr>\n",
       "      <th>1980</th>\n",
       "      <td>2022-06-01</td>\n",
       "      <td>desktop</td>\n",
       "      <td>LDP</td>\n",
       "      <td>Engagement</td>\n",
       "      <td>Share LDP</td>\n",
       "      <td>300</td>\n",
       "      <td>0</td>\n",
       "      <td>0</td>\n",
       "      <td>0</td>\n",
       "    </tr>\n",
       "    <tr>\n",
       "      <th>1981</th>\n",
       "      <td>2022-06-01</td>\n",
       "      <td>mobile</td>\n",
       "      <td>LDP</td>\n",
       "      <td>Engagement</td>\n",
       "      <td>Share LDP</td>\n",
       "      <td>528</td>\n",
       "      <td>0</td>\n",
       "      <td>0</td>\n",
       "      <td>0</td>\n",
       "    </tr>\n",
       "    <tr>\n",
       "      <th>1982</th>\n",
       "      <td>2022-06-01</td>\n",
       "      <td>tablet</td>\n",
       "      <td>LDP</td>\n",
       "      <td>Engagement</td>\n",
       "      <td>Share LDP</td>\n",
       "      <td>10</td>\n",
       "      <td>0</td>\n",
       "      <td>0</td>\n",
       "      <td>0</td>\n",
       "    </tr>\n",
       "    <tr>\n",
       "      <th>1983</th>\n",
       "      <td>2022-06-01</td>\n",
       "      <td>desktop</td>\n",
       "      <td>Other Consumer Pages</td>\n",
       "      <td>Conversion</td>\n",
       "      <td>Lead-Phone</td>\n",
       "      <td>27</td>\n",
       "      <td>0</td>\n",
       "      <td>0</td>\n",
       "      <td>0</td>\n",
       "    </tr>\n",
       "    <tr>\n",
       "      <th>1984</th>\n",
       "      <td>2022-06-01</td>\n",
       "      <td>desktop</td>\n",
       "      <td>LDP</td>\n",
       "      <td>Conversion</td>\n",
       "      <td>Lead-Phone</td>\n",
       "      <td>28226</td>\n",
       "      <td>0</td>\n",
       "      <td>0</td>\n",
       "      <td>0</td>\n",
       "    </tr>\n",
       "  </tbody>\n",
       "</table>\n",
       "</div>"
      ],
      "text/plain": [
       "      visit_date device_category             page_type event_category  \\\n",
       "1980  2022-06-01         desktop                   LDP     Engagement   \n",
       "1981  2022-06-01          mobile                   LDP     Engagement   \n",
       "1982  2022-06-01          tablet                   LDP     Engagement   \n",
       "1983  2022-06-01         desktop  Other Consumer Pages     Conversion   \n",
       "1984  2022-06-01         desktop                   LDP     Conversion   \n",
       "\n",
       "     event_action  count_events  holiday  weekend  day_off  \n",
       "1980    Share LDP           300        0        0        0  \n",
       "1981    Share LDP           528        0        0        0  \n",
       "1982    Share LDP            10        0        0        0  \n",
       "1983   Lead-Phone            27        0        0        0  \n",
       "1984   Lead-Phone         28226        0        0        0  "
      ]
     },
     "execution_count": 60,
     "metadata": {},
     "output_type": "execute_result"
    }
   ],
   "source": [
    "df.head()"
   ]
  },
  {
   "cell_type": "code",
   "execution_count": 61,
   "id": "e33b562c",
   "metadata": {
    "scrolled": true
   },
   "outputs": [],
   "source": [
    "#Chỉ lấy dữ liệu của week_day hoặc ngày lễ để so sánh với nhau\n",
    "dfw=df[(df['weekend']==0)&(df['event_category']!='undefined')]\n",
    "df1 = dfw[dfw['event_action'].str.contains('Scroll|Display')==False]"
   ]
  },
  {
   "cell_type": "code",
   "execution_count": 56,
   "id": "de5a2b11",
   "metadata": {},
   "outputs": [
    {
     "data": {
      "text/plain": [
       "visit_date  event_action                  \n",
       "2022-06-01  Activate-Auto Renew                 781\n",
       "            Buy Pro Account Result               91\n",
       "            Click Request Contact button       1048\n",
       "            Click-Address Detail Input LCP     1057\n",
       "            Click-Address Suggestion           3312\n",
       "                                              ...  \n",
       "2022-07-26  View Expired Listing LDP           4530\n",
       "            Zoom-Location Insight PDP          1156\n",
       "            click-boost-hour-selection         6295\n",
       "            click-boost-listing-menu          36192\n",
       "            result-field-upi                      6\n",
       "Name: count_events, Length: 6162, dtype: int64"
      ]
     },
     "execution_count": 56,
     "metadata": {},
     "output_type": "execute_result"
    }
   ],
   "source": [
    "dfa = df.groupby(['visit_date','event_action'])['count_events'].sum()\n",
    "dfa"
   ]
  },
  {
   "cell_type": "code",
   "execution_count": 52,
   "id": "b6a62078",
   "metadata": {},
   "outputs": [],
   "source": [
    "dfb = df1.unstack(-1).fillna(0)"
   ]
  },
  {
   "cell_type": "code",
   "execution_count": 77,
   "id": "687d350a",
   "metadata": {},
   "outputs": [
    {
     "data": {
      "text/plain": [
       "Index(['Activate-Auto Renew', 'Add-Custom Location Insight PDP',\n",
       "       'Buy Pro Account Result', 'Click Request Contact button',\n",
       "       'Click-Address Detail Input LCP', 'Click-Address Suggestion',\n",
       "       'Click-Apply Filter Multisearch Consumer',\n",
       "       'Click-Auto Extend Pro Account',\n",
       "       'Click-Auto Extend Pro Account Disable Form Accept',\n",
       "       'Click-Auto Extend Pro Account Disable Form Cancel',\n",
       "       ...\n",
       "       'Upgrade Pro Account Result', 'View Expired Listing LDP',\n",
       "       'Zoom-Location Insight PDP', 'click-boost-hour-selection',\n",
       "       'click-boost-listing-menu', 'listing-direct-pdp',\n",
       "       'multisearch-filter-apply', 'result-field-upi', 'undefined',\n",
       "       'view-sale-policy-pdp'],\n",
       "      dtype='object', name='event_action', length=193)"
      ]
     },
     "execution_count": 77,
     "metadata": {},
     "output_type": "execute_result"
    }
   ],
   "source": [
    "dfb.columns"
   ]
  },
  {
   "cell_type": "code",
   "execution_count": 54,
   "id": "c79d1bdf",
   "metadata": {},
   "outputs": [
    {
     "data": {
      "text/html": [
       "<div>\n",
       "<style scoped>\n",
       "    .dataframe tbody tr th:only-of-type {\n",
       "        vertical-align: middle;\n",
       "    }\n",
       "\n",
       "    .dataframe tbody tr th {\n",
       "        vertical-align: top;\n",
       "    }\n",
       "\n",
       "    .dataframe thead th {\n",
       "        text-align: right;\n",
       "    }\n",
       "</style>\n",
       "<table border=\"1\" class=\"dataframe\">\n",
       "  <thead>\n",
       "    <tr style=\"text-align: right;\">\n",
       "      <th>event_action</th>\n",
       "      <th>Activate-Auto Renew</th>\n",
       "      <th>Add-Custom Location Insight PDP</th>\n",
       "      <th>Buy Pro Account Result</th>\n",
       "      <th>Click Request Contact button</th>\n",
       "      <th>Click-Address Detail Input LCP</th>\n",
       "      <th>Click-Address Suggestion</th>\n",
       "      <th>Click-Apply Filter Multisearch Consumer</th>\n",
       "      <th>Click-Auto Extend Pro Account</th>\n",
       "      <th>Click-Auto Extend Pro Account Disable Form Accept</th>\n",
       "      <th>Click-Auto Extend Pro Account Disable Form Cancel</th>\n",
       "      <th>...</th>\n",
       "      <th>Upgrade Pro Account Result</th>\n",
       "      <th>View Expired Listing LDP</th>\n",
       "      <th>Zoom-Location Insight PDP</th>\n",
       "      <th>click-boost-hour-selection</th>\n",
       "      <th>click-boost-listing-menu</th>\n",
       "      <th>listing-direct-pdp</th>\n",
       "      <th>multisearch-filter-apply</th>\n",
       "      <th>result-field-upi</th>\n",
       "      <th>undefined</th>\n",
       "      <th>view-sale-policy-pdp</th>\n",
       "    </tr>\n",
       "    <tr>\n",
       "      <th>visit_date</th>\n",
       "      <th></th>\n",
       "      <th></th>\n",
       "      <th></th>\n",
       "      <th></th>\n",
       "      <th></th>\n",
       "      <th></th>\n",
       "      <th></th>\n",
       "      <th></th>\n",
       "      <th></th>\n",
       "      <th></th>\n",
       "      <th></th>\n",
       "      <th></th>\n",
       "      <th></th>\n",
       "      <th></th>\n",
       "      <th></th>\n",
       "      <th></th>\n",
       "      <th></th>\n",
       "      <th></th>\n",
       "      <th></th>\n",
       "      <th></th>\n",
       "      <th></th>\n",
       "    </tr>\n",
       "  </thead>\n",
       "  <tbody>\n",
       "    <tr>\n",
       "      <th>2022-07-26</th>\n",
       "      <td>695.0</td>\n",
       "      <td>3.0</td>\n",
       "      <td>71.0</td>\n",
       "      <td>953.0</td>\n",
       "      <td>788.0</td>\n",
       "      <td>2747.0</td>\n",
       "      <td>5543.0</td>\n",
       "      <td>23.0</td>\n",
       "      <td>17.0</td>\n",
       "      <td>0.0</td>\n",
       "      <td>...</td>\n",
       "      <td>7.0</td>\n",
       "      <td>4530.0</td>\n",
       "      <td>1156.0</td>\n",
       "      <td>6295.0</td>\n",
       "      <td>36192.0</td>\n",
       "      <td>0.0</td>\n",
       "      <td>0.0</td>\n",
       "      <td>6.0</td>\n",
       "      <td>0.0</td>\n",
       "      <td>0.0</td>\n",
       "    </tr>\n",
       "  </tbody>\n",
       "</table>\n",
       "<p>1 rows × 193 columns</p>\n",
       "</div>"
      ],
      "text/plain": [
       "event_action  Activate-Auto Renew  Add-Custom Location Insight PDP  \\\n",
       "visit_date                                                           \n",
       "2022-07-26                  695.0                              3.0   \n",
       "\n",
       "event_action  Buy Pro Account Result  Click Request Contact button  \\\n",
       "visit_date                                                           \n",
       "2022-07-26                      71.0                         953.0   \n",
       "\n",
       "event_action  Click-Address Detail Input LCP  Click-Address Suggestion  \\\n",
       "visit_date                                                               \n",
       "2022-07-26                             788.0                    2747.0   \n",
       "\n",
       "event_action  Click-Apply Filter Multisearch Consumer  \\\n",
       "visit_date                                              \n",
       "2022-07-26                                     5543.0   \n",
       "\n",
       "event_action  Click-Auto Extend Pro Account  \\\n",
       "visit_date                                    \n",
       "2022-07-26                             23.0   \n",
       "\n",
       "event_action  Click-Auto Extend Pro Account Disable Form Accept  \\\n",
       "visit_date                                                        \n",
       "2022-07-26                                                 17.0   \n",
       "\n",
       "event_action  Click-Auto Extend Pro Account Disable Form Cancel  ...  \\\n",
       "visit_date                                                       ...   \n",
       "2022-07-26                                                  0.0  ...   \n",
       "\n",
       "event_action  Upgrade Pro Account Result  View Expired Listing LDP  \\\n",
       "visit_date                                                           \n",
       "2022-07-26                           7.0                    4530.0   \n",
       "\n",
       "event_action  Zoom-Location Insight PDP  click-boost-hour-selection  \\\n",
       "visit_date                                                            \n",
       "2022-07-26                       1156.0                      6295.0   \n",
       "\n",
       "event_action  click-boost-listing-menu  listing-direct-pdp  \\\n",
       "visit_date                                                   \n",
       "2022-07-26                     36192.0                 0.0   \n",
       "\n",
       "event_action  multisearch-filter-apply  result-field-upi  undefined  \\\n",
       "visit_date                                                            \n",
       "2022-07-26                         0.0               6.0        0.0   \n",
       "\n",
       "event_action  view-sale-policy-pdp  \n",
       "visit_date                          \n",
       "2022-07-26                     0.0  \n",
       "\n",
       "[1 rows x 193 columns]"
      ]
     },
     "execution_count": 54,
     "metadata": {},
     "output_type": "execute_result"
    }
   ],
   "source": [
    "present_data = dfb[dfb.index==dfb.index.max()]\n",
    "present_data"
   ]
  },
  {
   "cell_type": "code",
   "execution_count": 55,
   "id": "226e73a3",
   "metadata": {},
   "outputs": [],
   "source": [
    "past_data = dfb[dfb.index<dfb.index.max()]"
   ]
  },
  {
   "cell_type": "code",
   "execution_count": 29,
   "id": "0fa3c70b",
   "metadata": {},
   "outputs": [],
   "source": [
    "raw=past_data['Activate-Auto Renew']"
   ]
  },
  {
   "cell_type": "code",
   "execution_count": 28,
   "id": "95a63d5a",
   "metadata": {},
   "outputs": [
    {
     "data": {
      "text/plain": [
       "pandas.core.frame.DataFrame"
      ]
     },
     "execution_count": 28,
     "metadata": {},
     "output_type": "execute_result"
    }
   ],
   "source": [
    "type(past_data)"
   ]
  },
  {
   "cell_type": "code",
   "execution_count": 41,
   "id": "892904a2",
   "metadata": {},
   "outputs": [
    {
     "data": {
      "text/plain": [
       "pandas.core.series.Series"
      ]
     },
     "execution_count": 41,
     "metadata": {},
     "output_type": "execute_result"
    }
   ],
   "source": [
    "type(raw)"
   ]
  },
  {
   "cell_type": "code",
   "execution_count": 34,
   "id": "3b76e058",
   "metadata": {},
   "outputs": [
    {
     "data": {
      "text/plain": [
       "visit_date\n",
       "2022-06-01      0.000000\n",
       "2022-06-02      0.000000\n",
       "2022-06-03    867.666667\n",
       "2022-06-04    781.750000\n",
       "2022-06-05    684.400000\n",
       "2022-06-06    693.600000\n",
       "2022-06-07    660.000000\n",
       "2022-06-08    664.600000\n",
       "2022-06-09    744.200000\n",
       "2022-06-10    852.800000\n",
       "2022-06-11    809.600000\n",
       "2022-06-12    699.000000\n",
       "2022-06-13    730.400000\n",
       "2022-06-14    723.600000\n",
       "2022-06-15    736.600000\n",
       "2022-06-16    801.600000\n",
       "2022-06-17    877.800000\n",
       "2022-06-18    808.800000\n",
       "2022-06-19    695.800000\n",
       "2022-06-20    710.000000\n",
       "2022-06-21    696.800000\n",
       "2022-06-22    683.800000\n",
       "2022-06-23    634.600000\n",
       "2022-07-10    570.000000\n",
       "2022-07-11    375.200000\n",
       "2022-07-12    201.200000\n",
       "2022-07-13    151.600000\n",
       "2022-07-14    265.200000\n",
       "2022-07-15    435.400000\n",
       "2022-07-16    578.600000\n",
       "2022-07-17    637.000000\n",
       "2022-07-18    703.000000\n",
       "2022-07-19    688.600000\n",
       "2022-07-20    697.800000\n",
       "2022-07-21    728.200000\n",
       "2022-07-22    823.400000\n",
       "2022-07-23    775.000000\n",
       "2022-07-24    666.200000\n",
       "2022-07-25    640.000000\n",
       "Name: Activate-Auto Renew, dtype: float64"
      ]
     },
     "execution_count": 34,
     "metadata": {},
     "output_type": "execute_result"
    }
   ],
   "source": [
    "avg=raw.rolling(5,3).mean().fillna(0)\n",
    "avg"
   ]
  },
  {
   "cell_type": "code",
   "execution_count": 39,
   "id": "7137b9d0",
   "metadata": {},
   "outputs": [
    {
     "data": {
      "text/plain": [
       "pandas.core.series.Series"
      ]
     },
     "execution_count": 39,
     "metadata": {},
     "output_type": "execute_result"
    }
   ],
   "source": [
    "type(avg[avg.index == avg.index.max()])"
   ]
  },
  {
   "cell_type": "code",
   "execution_count": 42,
   "id": "386fca8f",
   "metadata": {},
   "outputs": [
    {
     "data": {
      "text/plain": [
       "695.0"
      ]
     },
     "execution_count": 42,
     "metadata": {},
     "output_type": "execute_result"
    }
   ],
   "source": [
    "present_data['Activate-Auto Renew'][0]"
   ]
  },
  {
   "cell_type": "code",
   "execution_count": 67,
   "id": "e146095f",
   "metadata": {},
   "outputs": [],
   "source": [
    "def abnormal_trend(df,group,measure=['count_events'],abs_dif_allowed=1000):\n",
    "    df1 = df.groupby(group)[measure].sum()\n",
    "    df2 = df1.unstack(-1).fillna(0)\n",
    "    df2.columns = df2.columns.levels[1]\n",
    "    \n",
    "    present_data = df2[df2.index==df2.index.max()]\n",
    "    past_data = df2[df2.index<df2.index.max()]\n",
    "    measure = df2.columns\n",
    "\n",
    "    lst = []\n",
    "#     err = pd.DataFrame(columns = ['name','dif_perc','dif','benchmark_std'])\n",
    "\n",
    "    for i in(measure):\n",
    "        raw = past_data[i]\n",
    "        avg = raw.rolling(5,min_periods = 3).mean()\n",
    "        std = raw.rolling(10,min_periods = 5).std()/avg\n",
    "        \n",
    "        benchmark = avg[avg.index == avg.index.max()][0]\n",
    "        benchmark_std = std[std.index == std.index.max()][0]*100\n",
    "        \n",
    "        data = present_data[i][0]\n",
    "\n",
    "        dif = data - benchmark\n",
    "        dif_perc = dif/(data+0.01)*100\n",
    "\n",
    "        if np.abs(dif) > abs_dif_allowed:\n",
    "            if np.abs(dif_perc) > 20:\n",
    "                lst.append([i,dif_perc,dif,benchmark_std])\n",
    "            elif np.abs(dif_perc) < 5:\n",
    "                pass\n",
    "            elif np.abs(dif_perc) > benchmark_std*2:\n",
    "                lst.append([i,dif_perc,dif,benchmark_std])\n",
    "            else:\n",
    "                pass\n",
    "        else:\n",
    "            pass\n",
    "    err_table = pd.DataFrame(lst)\n",
    "    if err_table.shape[0] == 0:\n",
    "        pass\n",
    "    else:\n",
    "        err_table.columns = ['name','dif_perc','dif','benchmark_std']\n",
    "    err_table['date'] = df2.index.max()\n",
    "    return err_table"
   ]
  },
  {
   "cell_type": "code",
   "execution_count": 68,
   "id": "c8c70bca",
   "metadata": {},
   "outputs": [
    {
     "data": {
      "text/plain": [
       "1"
      ]
     },
     "execution_count": 68,
     "metadata": {},
     "output_type": "execute_result"
    }
   ],
   "source": [
    "er_event_category = abnormal_trend(df1,group=['visit_date','event_category'])\n",
    "er_event_category.shape[0]"
   ]
  },
  {
   "cell_type": "code",
   "execution_count": 69,
   "id": "03e80e19",
   "metadata": {},
   "outputs": [
    {
     "data": {
      "text/html": [
       "<div>\n",
       "<style scoped>\n",
       "    .dataframe tbody tr th:only-of-type {\n",
       "        vertical-align: middle;\n",
       "    }\n",
       "\n",
       "    .dataframe tbody tr th {\n",
       "        vertical-align: top;\n",
       "    }\n",
       "\n",
       "    .dataframe thead th {\n",
       "        text-align: right;\n",
       "    }\n",
       "</style>\n",
       "<table border=\"1\" class=\"dataframe\">\n",
       "  <thead>\n",
       "    <tr style=\"text-align: right;\">\n",
       "      <th></th>\n",
       "      <th>name</th>\n",
       "      <th>dif_perc</th>\n",
       "      <th>dif</th>\n",
       "      <th>benchmark_std</th>\n",
       "      <th>date</th>\n",
       "    </tr>\n",
       "  </thead>\n",
       "  <tbody>\n",
       "    <tr>\n",
       "      <th>0</th>\n",
       "      <td>Listing Management</td>\n",
       "      <td>-24.448363</td>\n",
       "      <td>-30348.0</td>\n",
       "      <td>12.637626</td>\n",
       "      <td>2022-07-26</td>\n",
       "    </tr>\n",
       "  </tbody>\n",
       "</table>\n",
       "</div>"
      ],
      "text/plain": [
       "                 name   dif_perc      dif  benchmark_std        date\n",
       "0  Listing Management -24.448363 -30348.0      12.637626  2022-07-26"
      ]
     },
     "execution_count": 69,
     "metadata": {},
     "output_type": "execute_result"
    }
   ],
   "source": [
    "er_event_category"
   ]
  },
  {
   "cell_type": "code",
   "execution_count": 70,
   "id": "eb1980a4",
   "metadata": {},
   "outputs": [
    {
     "data": {
      "text/plain": [
       "3"
      ]
     },
     "execution_count": 70,
     "metadata": {},
     "output_type": "execute_result"
    }
   ],
   "source": [
    "er_event_action = abnormal_trend(df1,group=['visit_date','event_action'])\n",
    "er_event_action.shape[0]"
   ]
  },
  {
   "cell_type": "code",
   "execution_count": 71,
   "id": "eaf407d1",
   "metadata": {},
   "outputs": [
    {
     "data": {
      "text/html": [
       "<div>\n",
       "<style scoped>\n",
       "    .dataframe tbody tr th:only-of-type {\n",
       "        vertical-align: middle;\n",
       "    }\n",
       "\n",
       "    .dataframe tbody tr th {\n",
       "        vertical-align: top;\n",
       "    }\n",
       "\n",
       "    .dataframe thead th {\n",
       "        text-align: right;\n",
       "    }\n",
       "</style>\n",
       "<table border=\"1\" class=\"dataframe\">\n",
       "  <thead>\n",
       "    <tr style=\"text-align: right;\">\n",
       "      <th></th>\n",
       "      <th>name</th>\n",
       "      <th>dif_perc</th>\n",
       "      <th>dif</th>\n",
       "      <th>benchmark_std</th>\n",
       "      <th>date</th>\n",
       "    </tr>\n",
       "  </thead>\n",
       "  <tbody>\n",
       "    <tr>\n",
       "      <th>0</th>\n",
       "      <td>Click-Confirm Up Listing LMP</td>\n",
       "      <td>-64.706217</td>\n",
       "      <td>-14681.2</td>\n",
       "      <td>16.732237</td>\n",
       "      <td>2022-07-26</td>\n",
       "    </tr>\n",
       "    <tr>\n",
       "      <th>1</th>\n",
       "      <td>Click-Quick Filter Tab LMP</td>\n",
       "      <td>-33.907556</td>\n",
       "      <td>-4373.4</td>\n",
       "      <td>16.845603</td>\n",
       "      <td>2022-07-26</td>\n",
       "    </tr>\n",
       "    <tr>\n",
       "      <th>2</th>\n",
       "      <td>Click-Up Listing LMP</td>\n",
       "      <td>-43.613619</td>\n",
       "      <td>-12385.4</td>\n",
       "      <td>11.449284</td>\n",
       "      <td>2022-07-26</td>\n",
       "    </tr>\n",
       "  </tbody>\n",
       "</table>\n",
       "</div>"
      ],
      "text/plain": [
       "                           name   dif_perc      dif  benchmark_std        date\n",
       "0  Click-Confirm Up Listing LMP -64.706217 -14681.2      16.732237  2022-07-26\n",
       "1    Click-Quick Filter Tab LMP -33.907556  -4373.4      16.845603  2022-07-26\n",
       "2          Click-Up Listing LMP -43.613619 -12385.4      11.449284  2022-07-26"
      ]
     },
     "execution_count": 71,
     "metadata": {},
     "output_type": "execute_result"
    }
   ],
   "source": [
    "er_event_action"
   ]
  },
  {
   "cell_type": "code",
   "execution_count": 1,
   "id": "108d0a72",
   "metadata": {},
   "outputs": [],
   "source": [
    "#BQ export function\n",
    "def post_to_bq(df,destination_table,write_type='append'):\n",
    "    if df.shape[0] == 0:\n",
    "        pass\n",
    "    else:\n",
    "        pandas_gbq.to_gbq(\n",
    "            df, destination_table, project_id='batdongsan-datalake-v0', if_exists=write_type,\n",
    "            table_schema = [{'name':'date','type': 'DATE'}]\n",
    "        )"
   ]
  },
  {
   "cell_type": "code",
   "execution_count": null,
   "id": "878e12b4",
   "metadata": {},
   "outputs": [],
   "source": [
    "#concat abnormal data from different devices (all/desktop/mobile)\n",
    "eec = abnormal_trend(df1,group=['visit_date','event_category'])\n",
    "eec['device'] = 'all'\n",
    "\n",
    "eecd = abnormal_trend(df1[df1['device_category']=='desktop'],group=['visit_date','event_category'])\n",
    "eecd['device'] = 'desktop'\n",
    "\n",
    "eecm = abnormal_trend(df1[df1['device_category']!='desktop'],group=['visit_date','event_category'])\n",
    "eecm['device'] = 'mobile'\n",
    "\n",
    "eec_all = pd.concat([eec,eecd,eecm])"
   ]
  },
  {
   "cell_type": "code",
   "execution_count": null,
   "id": "02c32a9b",
   "metadata": {},
   "outputs": [],
   "source": [
    "#export to BQ\n",
    "#post_to_bq(eec_all, destination_table = 'data_validation.event_category_error')"
   ]
  }
 ],
 "metadata": {
  "kernelspec": {
   "display_name": "Python 3",
   "language": "python",
   "name": "python3"
  },
  "language_info": {
   "codemirror_mode": {
    "name": "ipython",
    "version": 3
   },
   "file_extension": ".py",
   "mimetype": "text/x-python",
   "name": "python",
   "nbconvert_exporter": "python",
   "pygments_lexer": "ipython3",
   "version": "3.8.10"
  }
 },
 "nbformat": 4,
 "nbformat_minor": 5
}
